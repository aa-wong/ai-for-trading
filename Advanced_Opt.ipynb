{
 "cells": [
  {
   "cell_type": "code",
   "execution_count": null,
   "metadata": {},
   "outputs": [
    {
     "name": "stdout",
     "output_type": "stream",
     "text": [
      "Collecting alphalens==0.3.2 (from -r requirements.txt (line 1))\n",
      "\u001b[?25l  Downloading https://files.pythonhosted.org/packages/a5/dc/2f9cd107d0d4cf6223d37d81ddfbbdbf0d703d03669b83810fa6b97f32e5/alphalens-0.3.2.tar.gz (18.9MB)\n",
      "\u001b[K    100% |████████████████████████████████| 18.9MB 1.9MB/s ta 0:00:011\n",
      "\u001b[?25hCollecting colour==0.1.5 (from -r requirements.txt (line 2))\n",
      "  Downloading https://files.pythonhosted.org/packages/74/46/e81907704ab203206769dee1385dc77e1407576ff8f50a0681d0a6b541be/colour-0.1.5-py2.py3-none-any.whl\n",
      "Collecting cvxpy==1.0.3 (from -r requirements.txt (line 3))\n",
      "\u001b[?25l  Downloading https://files.pythonhosted.org/packages/a1/59/2613468ffbbe3a818934d06b81b9f4877fe054afbf4f99d2f43f398a0b34/cvxpy-1.0.3.tar.gz (880kB)\n",
      "\u001b[K    100% |████████████████████████████████| 880kB 6.1MB/s ta 0:00:011\n",
      "\u001b[?25hRequirement already satisfied: cycler==0.10.0 in /Users/Aaron/miniconda3/envs/mlenv/lib/python3.6/site-packages (from -r requirements.txt (line 4)) (0.10.0)\n",
      "Collecting numpy==1.13.3 (from -r requirements.txt (line 5))\n",
      "\u001b[?25l  Downloading https://files.pythonhosted.org/packages/75/06/faf181739f682da35f1310a904e650fc4706558b5657d8ec2f6b29c45220/numpy-1.13.3-cp36-cp36m-macosx_10_6_intel.macosx_10_9_intel.macosx_10_9_x86_64.macosx_10_10_intel.macosx_10_10_x86_64.whl (4.5MB)\n",
      "\u001b[K    100% |████████████████████████████████| 4.6MB 4.5MB/s ta 0:00:011\n",
      "\u001b[?25hCollecting pandas==0.18.1 (from -r requirements.txt (line 6))\n",
      "\u001b[?25l  Downloading https://files.pythonhosted.org/packages/11/09/e66eb844daba8680ddff26335d5b4fead77f60f957678243549a8dd4830d/pandas-0.18.1.tar.gz (7.3MB)\n",
      "\u001b[K    100% |████████████████████████████████| 7.3MB 3.6MB/s ta 0:00:011\n",
      "\u001b[?25hCollecting plotly==2.2.3 (from -r requirements.txt (line 7))\n",
      "\u001b[?25l  Downloading https://files.pythonhosted.org/packages/99/a6/8214b6564bf4ace9bec8a26e7f89832792be582c042c47c912d3201328a0/plotly-2.2.3.tar.gz (1.1MB)\n",
      "\u001b[K    100% |████████████████████████████████| 1.1MB 6.8MB/s ta 0:00:011\n",
      "\u001b[?25hCollecting pyparsing==2.2.0 (from -r requirements.txt (line 8))\n",
      "\u001b[?25l  Downloading https://files.pythonhosted.org/packages/6a/8a/718fd7d3458f9fab8e67186b00abdd345b639976bc7fb3ae722e1b026a50/pyparsing-2.2.0-py2.py3-none-any.whl (56kB)\n",
      "\u001b[K    100% |████████████████████████████████| 61kB 9.4MB/s ta 0:00:011\n",
      "\u001b[?25hCollecting python-dateutil==2.6.1 (from -r requirements.txt (line 9))\n",
      "\u001b[?25l  Downloading https://files.pythonhosted.org/packages/4b/0d/7ed381ab4fe80b8ebf34411d14f253e1cf3e56e2820ffa1d8844b23859a2/python_dateutil-2.6.1-py2.py3-none-any.whl (194kB)\n",
      "\u001b[K    100% |████████████████████████████████| 194kB 7.2MB/s ta 0:00:01\n",
      "\u001b[?25hCollecting pytz==2017.3 (from -r requirements.txt (line 10))\n",
      "\u001b[?25l  Downloading https://files.pythonhosted.org/packages/a3/7f/e7d1acbd433b929168a4fb4182a2ff3c33653717195a26c1de099ad1ef29/pytz-2017.3-py2.py3-none-any.whl (511kB)\n",
      "\u001b[K    100% |████████████████████████████████| 512kB 7.9MB/s ta 0:00:01\n",
      "\u001b[?25hCollecting requests==2.18.4 (from -r requirements.txt (line 11))\n",
      "  Using cached https://files.pythonhosted.org/packages/49/df/50aa1999ab9bde74656c2919d9c0c085fd2b3775fd3eca826012bef76d8c/requests-2.18.4-py2.py3-none-any.whl\n",
      "Collecting scipy==1.0.0 (from -r requirements.txt (line 12))\n",
      "\u001b[?25l  Downloading https://files.pythonhosted.org/packages/f1/0b/de845c9d06df39bfa462159b640c151a9c84d531bfaf5c8a14aeee8eb519/scipy-1.0.0-cp36-cp36m-macosx_10_6_intel.macosx_10_9_intel.macosx_10_9_x86_64.macosx_10_10_intel.macosx_10_10_x86_64.whl (16.7MB)\n",
      "\u001b[K    100% |████████████████████████████████| 16.7MB 1.7MB/s ta 0:00:011\n",
      "\u001b[?25hCollecting scikit-learn==0.19.1 (from -r requirements.txt (line 13))\n",
      "\u001b[?25l  Downloading https://files.pythonhosted.org/packages/f0/5e/1e1576587c5a9e8de6771806a4cccea8decd268c988453cf35ccbf892929/scikit_learn-0.19.1-cp36-cp36m-macosx_10_6_intel.macosx_10_9_intel.macosx_10_9_x86_64.macosx_10_10_intel.macosx_10_10_x86_64.whl (7.6MB)\n",
      "\u001b[K    100% |████████████████████████████████| 7.6MB 5.0MB/s eta 0:00:01\n",
      "\u001b[?25hCollecting six==1.11.0 (from -r requirements.txt (line 14))\n",
      "  Using cached https://files.pythonhosted.org/packages/67/4b/141a581104b1f6397bfa78ac9d43d8ad29a7ca43ea90a2d863fe3056e86a/six-1.11.0-py2.py3-none-any.whl\n",
      "Collecting tqdm==4.19.5 (from -r requirements.txt (line 15))\n",
      "\u001b[?25l  Downloading https://files.pythonhosted.org/packages/71/3c/341b4fa23cb3abc335207dba057c790f3bb329f6757e1fcd5d347bcf8308/tqdm-4.19.5-py2.py3-none-any.whl (51kB)\n",
      "\u001b[K    100% |████████████████████████████████| 61kB 8.2MB/s ta 0:00:011\n",
      "\u001b[?25hCollecting zipline===1.2.0 (from -r requirements.txt (line 16))\n",
      "\u001b[?25l  Downloading https://files.pythonhosted.org/packages/15/d3/689f2a940478b82ac57c751a40460598221fd82b0449a7a8f7eef47a3bcc/zipline-1.2.0.tar.gz (659kB)\n",
      "\u001b[K    100% |████████████████████████████████| 665kB 6.7MB/s ta 0:00:01\n",
      "\u001b[?25hRequirement already satisfied: matplotlib>=1.4.0 in /Users/Aaron/miniconda3/envs/mlenv/lib/python3.6/site-packages (from alphalens==0.3.2->-r requirements.txt (line 1)) (3.0.2)\n",
      "Requirement already satisfied: seaborn>=0.6.0 in /Users/Aaron/miniconda3/envs/mlenv/lib/python3.6/site-packages (from alphalens==0.3.2->-r requirements.txt (line 1)) (0.9.0)\n",
      "Requirement already satisfied: statsmodels>=0.6.1 in /Users/Aaron/miniconda3/envs/mlenv/lib/python3.6/site-packages (from alphalens==0.3.2->-r requirements.txt (line 1)) (0.9.0)\n",
      "Requirement already satisfied: IPython>=3.2.3 in /Users/Aaron/miniconda3/envs/mlenv/lib/python3.6/site-packages (from alphalens==0.3.2->-r requirements.txt (line 1)) (7.2.0)\n",
      "Collecting osqp (from cvxpy==1.0.3->-r requirements.txt (line 3))\n",
      "\u001b[?25l  Downloading https://files.pythonhosted.org/packages/a5/21/de722fb086ceb12ff9cac93fc73614dc89899f6a639095aff3cdd070ffd4/osqp-0.5.0-cp36-cp36m-macosx_10_6_intel.macosx_10_9_intel.macosx_10_9_x86_64.macosx_10_10_intel.macosx_10_10_x86_64.whl (221kB)\n",
      "\u001b[K    100% |████████████████████████████████| 225kB 7.3MB/s ta 0:00:01\n",
      "\u001b[?25hCollecting ecos>=2 (from cvxpy==1.0.3->-r requirements.txt (line 3))\n",
      "\u001b[?25l  Downloading https://files.pythonhosted.org/packages/2c/6b/9ef18307078597fb3c8a16be5bcc97180d2eac5032057a182b06e50a15d2/ecos-2.0.7.post1-cp36-cp36m-macosx_10_13_x86_64.whl (71kB)\n",
      "\u001b[K    100% |████████████████████████████████| 81kB 10.4MB/s ta 0:00:01\n",
      "\u001b[?25hCollecting scs>=1.1.3 (from cvxpy==1.0.3->-r requirements.txt (line 3))\n",
      "\u001b[?25l  Downloading https://files.pythonhosted.org/packages/07/a7/0b19c8f9476a4762d296c6c5fa860f2fe580a4f579fa53aaa8515f4ca217/scs-2.1.0.tar.gz (154kB)\n",
      "\u001b[K    100% |████████████████████████████████| 163kB 7.2MB/s ta 0:00:01\n",
      "\u001b[?25hCollecting multiprocess (from cvxpy==1.0.3->-r requirements.txt (line 3))\n",
      "\u001b[?25l  Downloading https://files.pythonhosted.org/packages/31/60/6d74caa02b54ca43092e745640c7d98f367f07160441682a01602ce00bc5/multiprocess-0.70.7.tar.gz (1.4MB)\n",
      "\u001b[K    100% |████████████████████████████████| 1.4MB 5.7MB/s ta 0:00:011\n",
      "\u001b[?25hCollecting fastcache (from cvxpy==1.0.3->-r requirements.txt (line 3))\n",
      "  Downloading https://files.pythonhosted.org/packages/fb/98/93f2d36738868e8dd5a8dbfc918169b24658f63e5fa041fe000c22ae4f8b/fastcache-1.0.2.tar.gz\n",
      "Requirement already satisfied: toolz in /Users/Aaron/miniconda3/envs/mlenv/lib/python3.6/site-packages (from cvxpy==1.0.3->-r requirements.txt (line 3)) (0.9.0)\n",
      "Requirement already satisfied: decorator>=4.0.6 in /Users/Aaron/miniconda3/envs/mlenv/lib/python3.6/site-packages (from plotly==2.2.3->-r requirements.txt (line 7)) (4.3.0)\n",
      "Requirement already satisfied: nbformat>=4.2 in /Users/Aaron/miniconda3/envs/mlenv/lib/python3.6/site-packages (from plotly==2.2.3->-r requirements.txt (line 7)) (4.4.0)\n",
      "Collecting urllib3<1.23,>=1.21.1 (from requests==2.18.4->-r requirements.txt (line 11))\n",
      "  Using cached https://files.pythonhosted.org/packages/63/cb/6965947c13a94236f6d4b8223e21beb4d576dc72e8130bd7880f600839b8/urllib3-1.22-py2.py3-none-any.whl\n",
      "Collecting idna<2.7,>=2.5 (from requests==2.18.4->-r requirements.txt (line 11))\n",
      "  Using cached https://files.pythonhosted.org/packages/27/cc/6dd9a3869f15c2edfab863b992838277279ce92663d334df9ecf5106f5c6/idna-2.6-py2.py3-none-any.whl\n",
      "Requirement already satisfied: certifi>=2017.4.17 in /Users/Aaron/miniconda3/envs/mlenv/lib/python3.6/site-packages (from requests==2.18.4->-r requirements.txt (line 11)) (2018.11.29)\n",
      "Collecting chardet<3.1.0,>=3.0.2 (from requests==2.18.4->-r requirements.txt (line 11))\n"
     ]
    },
    {
     "name": "stdout",
     "output_type": "stream",
     "text": [
      "  Using cached https://files.pythonhosted.org/packages/bc/a9/01ffebfb562e4274b6487b4bb1ddec7ca55ec7510b22e4c51f14098443b8/chardet-3.0.4-py2.py3-none-any.whl\n",
      "Requirement already satisfied: pip>=7.1.0 in /Users/Aaron/miniconda3/envs/mlenv/lib/python3.6/site-packages (from zipline===1.2.0->-r requirements.txt (line 16)) (18.1)\n",
      "Requirement already satisfied: setuptools>18.0 in /Users/Aaron/miniconda3/envs/mlenv/lib/python3.6/site-packages (from zipline===1.2.0->-r requirements.txt (line 16)) (40.6.3)\n",
      "Collecting Logbook>=0.12.5 (from zipline===1.2.0->-r requirements.txt (line 16))\n",
      "\u001b[?25l  Downloading https://files.pythonhosted.org/packages/f6/83/20fc0270614919cb799f76e32cf143a54c58ce2fa45c19fd38ac2e4f9977/Logbook-1.4.3.tar.gz (85kB)\n",
      "\u001b[K    100% |████████████████████████████████| 92kB 7.3MB/s ta 0:00:01\n",
      "\u001b[?25hCollecting requests-file>=1.4.1 (from zipline===1.2.0->-r requirements.txt (line 16))\n",
      "  Downloading https://files.pythonhosted.org/packages/23/9c/6e63c23c39e53d3df41c77a3d05a49a42c4e1383a6d2a5e3233161b89dbf/requests_file-1.4.3-py2.py3-none-any.whl\n",
      "Collecting pandas-datareader<0.6,>=0.2.1 (from zipline===1.2.0->-r requirements.txt (line 16))\n",
      "\u001b[?25l  Downloading https://files.pythonhosted.org/packages/40/c5/cc720f531bbde0efeab940de400d0fcc95e87770a3abcd7f90d6d52a3302/pandas_datareader-0.5.0-py2.py3-none-any.whl (74kB)\n",
      "\u001b[K    100% |████████████████████████████████| 81kB 19.6MB/s ta 0:00:01\n",
      "\u001b[?25hRequirement already satisfied: patsy>=0.4.0 in /Users/Aaron/miniconda3/envs/mlenv/lib/python3.6/site-packages (from zipline===1.2.0->-r requirements.txt (line 16)) (0.5.1)\n",
      "Collecting Cython>=0.25.2 (from zipline===1.2.0->-r requirements.txt (line 16))\n",
      "\u001b[?25l  Downloading https://files.pythonhosted.org/packages/d0/27/d7e796420dd1c69135ccf1362cd8ecf61a09db990a8335d65cd715b275b6/Cython-0.29.6-cp36-cp36m-macosx_10_6_intel.macosx_10_9_intel.macosx_10_9_x86_64.macosx_10_10_intel.macosx_10_10_x86_64.whl (2.9MB)\n",
      "\u001b[K    100% |████████████████████████████████| 2.9MB 3.4MB/s ta 0:00:011\n",
      "\u001b[?25hCollecting cyordereddict>=0.2.2 (from zipline===1.2.0->-r requirements.txt (line 16))\n",
      "\u001b[?25l  Downloading https://files.pythonhosted.org/packages/d1/1a/364cbfd927be1b743c7f0a985a7f1f7e8a51469619f9fefe4ee9240ba210/cyordereddict-1.0.0.tar.gz (138kB)\n",
      "\u001b[K    100% |████████████████████████████████| 143kB 7.1MB/s ta 0:00:01\n",
      "\u001b[?25hCollecting bottleneck>=1.0.0 (from zipline===1.2.0->-r requirements.txt (line 16))\n",
      "\u001b[?25l  Downloading https://files.pythonhosted.org/packages/05/ae/cedf5323f398ab4e4ff92d6c431a3e1c6a186f9b41ab3e8258dff786a290/Bottleneck-1.2.1.tar.gz (105kB)\n",
      "\u001b[K    100% |████████████████████████████████| 112kB 9.2MB/s eta 0:00:01\n",
      "\u001b[?25hCollecting contextlib2>=0.4.0 (from zipline===1.2.0->-r requirements.txt (line 16))\n",
      "  Using cached https://files.pythonhosted.org/packages/a2/71/8273a7eeed0aff6a854237ab5453bc9aa67deb49df4832801c21f0ff3782/contextlib2-0.5.5-py2.py3-none-any.whl\n",
      "Collecting networkx<2.0,>=1.9.1 (from zipline===1.2.0->-r requirements.txt (line 16))\n",
      "\u001b[?25l  Downloading https://files.pythonhosted.org/packages/d3/2c/e473e54afc9fae58dfa97066ef6709a7e35a1dd1c28c5a3842989322be00/networkx-1.11-py2.py3-none-any.whl (1.3MB)\n",
      "\u001b[K    100% |████████████████████████████████| 1.3MB 5.8MB/s ta 0:00:011\n",
      "\u001b[?25hCollecting numexpr>=2.6.1 (from zipline===1.2.0->-r requirements.txt (line 16))\n",
      "\u001b[?25l  Downloading https://files.pythonhosted.org/packages/a4/2c/71676625624fe67b8ea2236455ceaed634bcef995bbe250f014c5d9508fd/numexpr-2.6.9-cp36-cp36m-macosx_10_6_intel.macosx_10_9_intel.macosx_10_9_x86_64.macosx_10_10_intel.macosx_10_10_x86_64.whl (182kB)\n",
      "\u001b[K    100% |████████████████████████████████| 184kB 7.2MB/s ta 0:00:01\n",
      "\u001b[?25hCollecting bcolz<1,>=0.12.1 (from zipline===1.2.0->-r requirements.txt (line 16))\n",
      "\u001b[?25l  Downloading https://files.pythonhosted.org/packages/6c/8b/1ffa01f872cac36173c5eb95b58c01040d8d25f1b242c48577f4104cd3ab/bcolz-0.12.1.tar.gz (622kB)\n",
      "\u001b[K    100% |████████████████████████████████| 624kB 10.1MB/s ta 0:00:01\n",
      "\u001b[?25hCollecting click>=4.0.0 (from zipline===1.2.0->-r requirements.txt (line 16))\n",
      "  Using cached https://files.pythonhosted.org/packages/fa/37/45185cb5abbc30d7257104c434fe0b07e5a195a6847506c074527aa599ec/Click-7.0-py2.py3-none-any.whl\n",
      "Collecting multipledispatch>=0.4.8 (from zipline===1.2.0->-r requirements.txt (line 16))\n",
      "  Downloading https://files.pythonhosted.org/packages/89/79/429ecef45fd5e4504f7474d4c3c3c4668c267be3370e4c2fd33e61506833/multipledispatch-0.6.0-py3-none-any.whl\n",
      "Requirement already satisfied: MarkupSafe>=0.23 in /Users/Aaron/miniconda3/envs/mlenv/lib/python3.6/site-packages (from zipline===1.2.0->-r requirements.txt (line 16)) (1.1.0)\n",
      "Collecting Mako>=1.0.1 (from zipline===1.2.0->-r requirements.txt (line 16))\n",
      "\u001b[?25l  Downloading https://files.pythonhosted.org/packages/eb/f3/67579bb486517c0d49547f9697e36582cd19dafb5df9e687ed8e22de57fa/Mako-1.0.7.tar.gz (564kB)\n",
      "\u001b[K    100% |████████████████████████████████| 573kB 8.1MB/s ta 0:00:01\n",
      "\u001b[?25hCollecting sqlalchemy>=1.0.8 (from zipline===1.2.0->-r requirements.txt (line 16))\n",
      "\u001b[?25l  Downloading https://files.pythonhosted.org/packages/85/29/d7a5687d0d21ea8133f2d4ef02dfb4d191afe7ebc8bd9f962d99bdf595e1/SQLAlchemy-1.3.1.tar.gz (5.9MB)\n",
      "\u001b[K    100% |████████████████████████████████| 5.9MB 5.4MB/s eta 0:00:01\n",
      "\u001b[?25hCollecting alembic>=0.7.7 (from zipline===1.2.0->-r requirements.txt (line 16))\n",
      "\u001b[?25l  Downloading https://files.pythonhosted.org/packages/d6/bb/ec1e21f2e303689ad2170eb47fc67df9ad4199ade6759a99474c4d3535c8/alembic-1.0.8.tar.gz (1.0MB)\n",
      "\u001b[K    100% |████████████████████████████████| 1.0MB 15.2MB/s ta 0:00:01\n",
      "\u001b[?25hCollecting sortedcontainers>=1.4.4 (from zipline===1.2.0->-r requirements.txt (line 16))\n",
      "  Downloading https://files.pythonhosted.org/packages/13/f3/cf85f7c3a2dbd1a515d51e1f1676d971abe41bba6f4ab5443240d9a78e5b/sortedcontainers-2.1.0-py2.py3-none-any.whl\n",
      "Collecting intervaltree>=2.1.0 (from zipline===1.2.0->-r requirements.txt (line 16))\n",
      "  Downloading https://files.pythonhosted.org/packages/e8/f9/76237755b2020cd74549e98667210b2dd54d3fb17c6f4a62631e61d31225/intervaltree-3.0.2.tar.gz\n",
      "Collecting lru-dict>=1.1.4 (from zipline===1.2.0->-r requirements.txt (line 16))\n",
      "  Downloading https://files.pythonhosted.org/packages/00/a5/32ed6e10246cd341ca8cc205acea5d208e4053f48a4dced2b1b31d45ba3f/lru-dict-1.1.6.tar.gz\n",
      "Collecting empyrical>=0.4.2 (from zipline===1.2.0->-r requirements.txt (line 16))\n",
      "\u001b[?25l  Downloading https://files.pythonhosted.org/packages/7b/55/a01b05162b764830dbbac868462f44cd847a5b6523a01ca9f955721819da/empyrical-0.5.0.tar.gz (49kB)\n",
      "\u001b[K    100% |████████████████████████████████| 51kB 6.1MB/s ta 0:00:01\n",
      "\u001b[?25hCollecting tables>=3.3.0 (from zipline===1.2.0->-r requirements.txt (line 16))\n",
      "\u001b[33m  Retrying (Retry(total=4, connect=None, read=None, redirect=None, status=None)) after connection broken by 'ReadTimeoutError(\"HTTPSConnectionPool(host='files.pythonhosted.org', port=443): Read timed out. (read timeout=15)\",)': /packages/d3/87/eacb484c49b76209f83f20c19c9641ceff04b6840f6b78442e33809dcdba/tables-3.5.1-cp36-cp36m-macosx_10_6_intel.macosx_10_9_intel.macosx_10_9_x86_64.macosx_10_10_intel.macosx_10_10_x86_64.whl\u001b[0m\n",
      "\u001b[?25l  Downloading https://files.pythonhosted.org/packages/d3/87/eacb484c49b76209f83f20c19c9641ceff04b6840f6b78442e33809dcdba/tables-3.5.1-cp36-cp36m-macosx_10_6_intel.macosx_10_9_intel.macosx_10_9_x86_64.macosx_10_10_intel.macosx_10_10_x86_64.whl (4.4MB)\n",
      "\u001b[K    100% |████████████████████████████████| 4.4MB 4.2MB/s ta 0:00:011\n",
      "\u001b[?25hRequirement already satisfied: kiwisolver>=1.0.1 in /Users/Aaron/miniconda3/envs/mlenv/lib/python3.6/site-packages (from matplotlib>=1.4.0->alphalens==0.3.2->-r requirements.txt (line 1)) (1.0.1)\n",
      "Requirement already satisfied: pygments in /Users/Aaron/miniconda3/envs/mlenv/lib/python3.6/site-packages (from IPython>=3.2.3->alphalens==0.3.2->-r requirements.txt (line 1)) (2.3.1)\n",
      "Requirement already satisfied: appnope; sys_platform == \"darwin\" in /Users/Aaron/miniconda3/envs/mlenv/lib/python3.6/site-packages (from IPython>=3.2.3->alphalens==0.3.2->-r requirements.txt (line 1)) (0.1.0)\n",
      "Requirement already satisfied: pickleshare in /Users/Aaron/miniconda3/envs/mlenv/lib/python3.6/site-packages (from IPython>=3.2.3->alphalens==0.3.2->-r requirements.txt (line 1)) (0.7.5)\n",
      "Requirement already satisfied: pexpect; sys_platform != \"win32\" in /Users/Aaron/miniconda3/envs/mlenv/lib/python3.6/site-packages (from IPython>=3.2.3->alphalens==0.3.2->-r requirements.txt (line 1)) (4.6.0)\n",
      "Requirement already satisfied: traitlets>=4.2 in /Users/Aaron/miniconda3/envs/mlenv/lib/python3.6/site-packages (from IPython>=3.2.3->alphalens==0.3.2->-r requirements.txt (line 1)) (4.3.2)\n",
      "Requirement already satisfied: backcall in /Users/Aaron/miniconda3/envs/mlenv/lib/python3.6/site-packages (from IPython>=3.2.3->alphalens==0.3.2->-r requirements.txt (line 1)) (0.1.0)\n",
      "Requirement already satisfied: prompt-toolkit<2.1.0,>=2.0.0 in /Users/Aaron/miniconda3/envs/mlenv/lib/python3.6/site-packages (from IPython>=3.2.3->alphalens==0.3.2->-r requirements.txt (line 1)) (2.0.7)\n",
      "Requirement already satisfied: jedi>=0.10 in /Users/Aaron/miniconda3/envs/mlenv/lib/python3.6/site-packages (from IPython>=3.2.3->alphalens==0.3.2->-r requirements.txt (line 1)) (0.13.2)\n"
     ]
    },
    {
     "name": "stdout",
     "output_type": "stream",
     "text": [
      "Collecting future (from osqp->cvxpy==1.0.3->-r requirements.txt (line 3))\n",
      "Collecting dill>=0.2.9 (from multiprocess->cvxpy==1.0.3->-r requirements.txt (line 3))\n",
      "\u001b[?25l  Downloading https://files.pythonhosted.org/packages/fe/42/bfe2e0857bc284cbe6a011d93f2a9ad58a22cb894461b199ae72cfef0f29/dill-0.2.9.tar.gz (150kB)\n",
      "\u001b[K    100% |████████████████████████████████| 153kB 8.0MB/s ta 0:00:01\n",
      "\u001b[?25hRequirement already satisfied: ipython_genutils in /Users/Aaron/miniconda3/envs/mlenv/lib/python3.6/site-packages (from nbformat>=4.2->plotly==2.2.3->-r requirements.txt (line 7)) (0.2.0)\n",
      "Requirement already satisfied: jsonschema!=2.5.0,>=2.4 in /Users/Aaron/miniconda3/envs/mlenv/lib/python3.6/site-packages (from nbformat>=4.2->plotly==2.2.3->-r requirements.txt (line 7)) (2.6.0)\n",
      "Requirement already satisfied: jupyter_core in /Users/Aaron/miniconda3/envs/mlenv/lib/python3.6/site-packages (from nbformat>=4.2->plotly==2.2.3->-r requirements.txt (line 7)) (4.4.0)\n",
      "Collecting requests-ftp (from pandas-datareader<0.6,>=0.2.1->zipline===1.2.0->-r requirements.txt (line 16))\n",
      "  Downloading https://files.pythonhosted.org/packages/3d/ca/14b2ad1e93b5195eeaf56b86b7ecfd5ea2d5754a68d17aeb1e5b9f95b3cf/requests-ftp-0.3.1.tar.gz\n",
      "Collecting python-editor>=0.3 (from alembic>=0.7.7->zipline===1.2.0->-r requirements.txt (line 16))\n",
      "  Downloading https://files.pythonhosted.org/packages/c6/d3/201fc3abe391bbae6606e6f1d598c15d367033332bd54352b12f35513717/python_editor-1.0.4-py3-none-any.whl\n",
      "Collecting mock>=2.0 (from tables>=3.3.0->zipline===1.2.0->-r requirements.txt (line 16))\n",
      "\u001b[?25l  Downloading https://files.pythonhosted.org/packages/e6/35/f187bdf23be87092bd0f1200d43d23076cee4d0dec109f195173fd3ebc79/mock-2.0.0-py2.py3-none-any.whl (56kB)\n",
      "\u001b[K    100% |████████████████████████████████| 61kB 8.7MB/s ta 0:00:011\n",
      "\u001b[?25hRequirement already satisfied: ptyprocess>=0.5 in /Users/Aaron/miniconda3/envs/mlenv/lib/python3.6/site-packages (from pexpect; sys_platform != \"win32\"->IPython>=3.2.3->alphalens==0.3.2->-r requirements.txt (line 1)) (0.6.0)\n",
      "Requirement already satisfied: wcwidth in /Users/Aaron/miniconda3/envs/mlenv/lib/python3.6/site-packages (from prompt-toolkit<2.1.0,>=2.0.0->IPython>=3.2.3->alphalens==0.3.2->-r requirements.txt (line 1)) (0.1.7)\n",
      "Requirement already satisfied: parso>=0.3.0 in /Users/Aaron/miniconda3/envs/mlenv/lib/python3.6/site-packages (from jedi>=0.10->IPython>=3.2.3->alphalens==0.3.2->-r requirements.txt (line 1)) (0.3.1)\n",
      "Collecting pbr>=0.11 (from mock>=2.0->tables>=3.3.0->zipline===1.2.0->-r requirements.txt (line 16))\n",
      "\u001b[?25l  Downloading https://files.pythonhosted.org/packages/14/09/12fe9a14237a6b7e0ba3a8d6fcf254bf4b10ec56a0185f73d651145e9222/pbr-5.1.3-py2.py3-none-any.whl (107kB)\n",
      "\u001b[K    100% |████████████████████████████████| 112kB 7.8MB/s ta 0:00:01\n",
      "\u001b[?25hBuilding wheels for collected packages: alphalens, cvxpy, pandas, plotly, zipline, scs, multiprocess, fastcache, Logbook, cyordereddict, bottleneck, bcolz, Mako, sqlalchemy, alembic, intervaltree, lru-dict, empyrical, dill, requests-ftp\n",
      "  Running setup.py bdist_wheel for alphalens ... \u001b[?25ldone\n",
      "\u001b[?25h  Stored in directory: /Users/Aaron/Library/Caches/pip/wheels/77/1e/9a/223b4c94d7f564f25d94b48ca5b9c53e3034016ece3fd8c8c1\n",
      "  Running setup.py bdist_wheel for cvxpy ... \u001b[?25lerror\n",
      "  Complete output from command /Users/Aaron/miniconda3/envs/mlenv/bin/python -u -c \"import setuptools, tokenize;__file__='/private/var/folders/rj/fvnx53f57pggcjjpcpjfcgs00000gp/T/pip-install-ei7u6lgv/cvxpy/setup.py';f=getattr(tokenize, 'open', open)(__file__);code=f.read().replace('\\r\\n', '\\n');f.close();exec(compile(code, __file__, 'exec'))\" bdist_wheel -d /private/var/folders/rj/fvnx53f57pggcjjpcpjfcgs00000gp/T/pip-wheel-vw8wq5d8 --python-tag cp36:\n",
      "  running bdist_wheel\n",
      "  running build\n",
      "  running build_py\n",
      "  creating build\n",
      "  creating build/lib.macosx-10.7-x86_64-3.6\n",
      "  creating build/lib.macosx-10.7-x86_64-3.6/cvxpy\n",
      "  copying cvxpy/error.py -> build/lib.macosx-10.7-x86_64-3.6/cvxpy\n",
      "  copying cvxpy/__init__.py -> build/lib.macosx-10.7-x86_64-3.6/cvxpy\n",
      "  copying cvxpy/settings.py -> build/lib.macosx-10.7-x86_64-3.6/cvxpy\n",
      "  creating build/lib.macosx-10.7-x86_64-3.6/cvxpy/atoms\n",
      "  copying cvxpy/atoms/max.py -> build/lib.macosx-10.7-x86_64-3.6/cvxpy/atoms\n",
      "  copying cvxpy/atoms/cummax.py -> build/lib.macosx-10.7-x86_64-3.6/cvxpy/atoms\n",
      "  copying cvxpy/atoms/matrix_frac.py -> build/lib.macosx-10.7-x86_64-3.6/cvxpy/atoms\n",
      "  copying cvxpy/atoms/lambda_max.py -> build/lib.macosx-10.7-x86_64-3.6/cvxpy/atoms\n",
      "  copying cvxpy/atoms/sigma_max.py -> build/lib.macosx-10.7-x86_64-3.6/cvxpy/atoms\n",
      "  copying cvxpy/atoms/total_variation.py -> build/lib.macosx-10.7-x86_64-3.6/cvxpy/atoms\n",
      "  copying cvxpy/atoms/sum_smallest.py -> build/lib.macosx-10.7-x86_64-3.6/cvxpy/atoms\n",
      "  copying cvxpy/atoms/norm1.py -> build/lib.macosx-10.7-x86_64-3.6/cvxpy/atoms\n",
      "  copying cvxpy/atoms/lambda_sum_smallest.py -> build/lib.macosx-10.7-x86_64-3.6/cvxpy/atoms\n",
      "  copying cvxpy/atoms/norm.py -> build/lib.macosx-10.7-x86_64-3.6/cvxpy/atoms\n",
      "  copying cvxpy/atoms/pnorm.py -> build/lib.macosx-10.7-x86_64-3.6/cvxpy/atoms\n",
      "  copying cvxpy/atoms/__init__.py -> build/lib.macosx-10.7-x86_64-3.6/cvxpy/atoms\n",
      "  copying cvxpy/atoms/sum_largest.py -> build/lib.macosx-10.7-x86_64-3.6/cvxpy/atoms\n",
      "  copying cvxpy/atoms/lambda_sum_largest.py -> build/lib.macosx-10.7-x86_64-3.6/cvxpy/atoms\n",
      "  copying cvxpy/atoms/sum_squares.py -> build/lib.macosx-10.7-x86_64-3.6/cvxpy/atoms\n",
      "  copying cvxpy/atoms/log_sum_exp.py -> build/lib.macosx-10.7-x86_64-3.6/cvxpy/atoms\n",
      "  copying cvxpy/atoms/norm_nuc.py -> build/lib.macosx-10.7-x86_64-3.6/cvxpy/atoms\n",
      "  copying cvxpy/atoms/mixed_norm.py -> build/lib.macosx-10.7-x86_64-3.6/cvxpy/atoms\n",
      "  copying cvxpy/atoms/min.py -> build/lib.macosx-10.7-x86_64-3.6/cvxpy/atoms\n",
      "  copying cvxpy/atoms/quad_over_lin.py -> build/lib.macosx-10.7-x86_64-3.6/cvxpy/atoms\n",
      "  copying cvxpy/atoms/geo_mean.py -> build/lib.macosx-10.7-x86_64-3.6/cvxpy/atoms\n",
      "  copying cvxpy/atoms/axis_atom.py -> build/lib.macosx-10.7-x86_64-3.6/cvxpy/atoms\n",
      "  copying cvxpy/atoms/lambda_min.py -> build/lib.macosx-10.7-x86_64-3.6/cvxpy/atoms\n",
      "  copying cvxpy/atoms/norm_inf.py -> build/lib.macosx-10.7-x86_64-3.6/cvxpy/atoms\n",
      "  copying cvxpy/atoms/quad_form.py -> build/lib.macosx-10.7-x86_64-3.6/cvxpy/atoms\n",
      "  copying cvxpy/atoms/log_det.py -> build/lib.macosx-10.7-x86_64-3.6/cvxpy/atoms\n",
      "  copying cvxpy/atoms/harmonic_mean.py -> build/lib.macosx-10.7-x86_64-3.6/cvxpy/atoms\n",
      "  copying cvxpy/atoms/atom.py -> build/lib.macosx-10.7-x86_64-3.6/cvxpy/atoms\n",
      "  creating build/lib.macosx-10.7-x86_64-3.6/cvxpy/atoms/affine\n",
      "  copying cvxpy/atoms/affine/vec.py -> build/lib.macosx-10.7-x86_64-3.6/cvxpy/atoms/affine\n",
      "  copying cvxpy/atoms/affine/trace.py -> build/lib.macosx-10.7-x86_64-3.6/cvxpy/atoms/affine\n",
      "  copying cvxpy/atoms/affine/unary_operators.py -> build/lib.macosx-10.7-x86_64-3.6/cvxpy/atoms/affine\n",
      "  copying cvxpy/atoms/affine/vstack.py -> build/lib.macosx-10.7-x86_64-3.6/cvxpy/atoms/affine\n",
      "  copying cvxpy/atoms/affine/affine_atom.py -> build/lib.macosx-10.7-x86_64-3.6/cvxpy/atoms/affine\n",
      "  copying cvxpy/atoms/affine/index.py -> build/lib.macosx-10.7-x86_64-3.6/cvxpy/atoms/affine\n",
      "  copying cvxpy/atoms/affine/upper_tri.py -> build/lib.macosx-10.7-x86_64-3.6/cvxpy/atoms/affine\n",
      "  copying cvxpy/atoms/affine/binary_operators.py -> build/lib.macosx-10.7-x86_64-3.6/cvxpy/atoms/affine\n",
      "  copying cvxpy/atoms/affine/hstack.py -> build/lib.macosx-10.7-x86_64-3.6/cvxpy/atoms/affine\n",
      "  copying cvxpy/atoms/affine/reshape.py -> build/lib.macosx-10.7-x86_64-3.6/cvxpy/atoms/affine\n",
      "  copying cvxpy/atoms/affine/bmat.py -> build/lib.macosx-10.7-x86_64-3.6/cvxpy/atoms/affine\n",
      "  copying cvxpy/atoms/affine/__init__.py -> build/lib.macosx-10.7-x86_64-3.6/cvxpy/atoms/affine\n",
      "  copying cvxpy/atoms/affine/promote.py -> build/lib.macosx-10.7-x86_64-3.6/cvxpy/atoms/affine\n",
      "  copying cvxpy/atoms/affine/real.py -> build/lib.macosx-10.7-x86_64-3.6/cvxpy/atoms/affine\n",
      "  copying cvxpy/atoms/affine/kron.py -> build/lib.macosx-10.7-x86_64-3.6/cvxpy/atoms/affine\n",
      "  copying cvxpy/atoms/affine/imag.py -> build/lib.macosx-10.7-x86_64-3.6/cvxpy/atoms/affine\n",
      "  copying cvxpy/atoms/affine/transpose.py -> build/lib.macosx-10.7-x86_64-3.6/cvxpy/atoms/affine\n",
      "  copying cvxpy/atoms/affine/diag.py -> build/lib.macosx-10.7-x86_64-3.6/cvxpy/atoms/affine\n",
      "  copying cvxpy/atoms/affine/add_expr.py -> build/lib.macosx-10.7-x86_64-3.6/cvxpy/atoms/affine\n",
      "  copying cvxpy/atoms/affine/diff.py -> build/lib.macosx-10.7-x86_64-3.6/cvxpy/atoms/affine\n",
      "  copying cvxpy/atoms/affine/sum.py -> build/lib.macosx-10.7-x86_64-3.6/cvxpy/atoms/affine\n",
      "  copying cvxpy/atoms/affine/conv.py -> build/lib.macosx-10.7-x86_64-3.6/cvxpy/atoms/affine\n",
      "  copying cvxpy/atoms/affine/cumsum.py -> build/lib.macosx-10.7-x86_64-3.6/cvxpy/atoms/affine\n",
      "  copying cvxpy/atoms/affine/conj.py -> build/lib.macosx-10.7-x86_64-3.6/cvxpy/atoms/affine\n",
      "  creating build/lib.macosx-10.7-x86_64-3.6/cvxpy/atoms/elementwise\n",
      "  copying cvxpy/atoms/elementwise/kl_div.py -> build/lib.macosx-10.7-x86_64-3.6/cvxpy/atoms/elementwise\n",
      "  copying cvxpy/atoms/elementwise/pos.py -> build/lib.macosx-10.7-x86_64-3.6/cvxpy/atoms/elementwise\n",
      "  copying cvxpy/atoms/elementwise/neg.py -> build/lib.macosx-10.7-x86_64-3.6/cvxpy/atoms/elementwise\n",
      "  copying cvxpy/atoms/elementwise/sqrt.py -> build/lib.macosx-10.7-x86_64-3.6/cvxpy/atoms/elementwise\n",
      "  copying cvxpy/atoms/elementwise/entr.py -> build/lib.macosx-10.7-x86_64-3.6/cvxpy/atoms/elementwise\n",
      "  copying cvxpy/atoms/elementwise/log.py -> build/lib.macosx-10.7-x86_64-3.6/cvxpy/atoms/elementwise\n",
      "  copying cvxpy/atoms/elementwise/logistic.py -> build/lib.macosx-10.7-x86_64-3.6/cvxpy/atoms/elementwise\n",
      "  copying cvxpy/atoms/elementwise/elementwise.py -> build/lib.macosx-10.7-x86_64-3.6/cvxpy/atoms/elementwise\n",
      "  copying cvxpy/atoms/elementwise/abs.py -> build/lib.macosx-10.7-x86_64-3.6/cvxpy/atoms/elementwise\n",
      "  copying cvxpy/atoms/elementwise/__init__.py -> build/lib.macosx-10.7-x86_64-3.6/cvxpy/atoms/elementwise\n",
      "  copying cvxpy/atoms/elementwise/maximum.py -> build/lib.macosx-10.7-x86_64-3.6/cvxpy/atoms/elementwise\n",
      "  copying cvxpy/atoms/elementwise/minimum.py -> build/lib.macosx-10.7-x86_64-3.6/cvxpy/atoms/elementwise\n",
      "  copying cvxpy/atoms/elementwise/huber.py -> build/lib.macosx-10.7-x86_64-3.6/cvxpy/atoms/elementwise\n",
      "  copying cvxpy/atoms/elementwise/scalene.py -> build/lib.macosx-10.7-x86_64-3.6/cvxpy/atoms/elementwise\n",
      "  copying cvxpy/atoms/elementwise/square.py -> build/lib.macosx-10.7-x86_64-3.6/cvxpy/atoms/elementwise\n",
      "  copying cvxpy/atoms/elementwise/inv_pos.py -> build/lib.macosx-10.7-x86_64-3.6/cvxpy/atoms/elementwise\n",
      "  copying cvxpy/atoms/elementwise/exp.py -> build/lib.macosx-10.7-x86_64-3.6/cvxpy/atoms/elementwise\n",
      "  copying cvxpy/atoms/elementwise/log1p.py -> build/lib.macosx-10.7-x86_64-3.6/cvxpy/atoms/elementwise\n",
      "  copying cvxpy/atoms/elementwise/power.py -> build/lib.macosx-10.7-x86_64-3.6/cvxpy/atoms/elementwise\n",
      "  creating build/lib.macosx-10.7-x86_64-3.6/cvxpy/cvxcore\n",
      "  copying cvxpy/cvxcore/__init__.py -> build/lib.macosx-10.7-x86_64-3.6/cvxpy/cvxcore\n",
      "  creating build/lib.macosx-10.7-x86_64-3.6/cvxpy/cvxcore/python\n",
      "  copying cvxpy/cvxcore/python/canonInterface.py -> build/lib.macosx-10.7-x86_64-3.6/cvxpy/cvxcore/python\n",
      "  copying cvxpy/cvxcore/python/__init__.py -> build/lib.macosx-10.7-x86_64-3.6/cvxpy/cvxcore/python\n",
      "  copying cvxpy/cvxcore/python/cvxcore.py -> build/lib.macosx-10.7-x86_64-3.6/cvxpy/cvxcore/python\n",
      "  creating build/lib.macosx-10.7-x86_64-3.6/cvxpy/constraints\n",
      "  copying cvxpy/constraints/constraint.py -> build/lib.macosx-10.7-x86_64-3.6/cvxpy/constraints\n",
      "  copying cvxpy/constraints/nonlinear.py -> build/lib.macosx-10.7-x86_64-3.6/cvxpy/constraints\n",
      "  copying cvxpy/constraints/__init__.py -> build/lib.macosx-10.7-x86_64-3.6/cvxpy/constraints\n",
      "  copying cvxpy/constraints/second_order.py -> build/lib.macosx-10.7-x86_64-3.6/cvxpy/constraints\n",
      "  copying cvxpy/constraints/exponential.py -> build/lib.macosx-10.7-x86_64-3.6/cvxpy/constraints\n",
      "  copying cvxpy/constraints/zero.py -> build/lib.macosx-10.7-x86_64-3.6/cvxpy/constraints\n",
      "  copying cvxpy/constraints/nonpos.py -> build/lib.macosx-10.7-x86_64-3.6/cvxpy/constraints\n",
      "  copying cvxpy/constraints/soc_axis.py -> build/lib.macosx-10.7-x86_64-3.6/cvxpy/constraints\n",
      "  copying cvxpy/constraints/psd.py -> build/lib.macosx-10.7-x86_64-3.6/cvxpy/constraints\n",
      "  copying cvxpy/constraints/utilities.py -> build/lib.macosx-10.7-x86_64-3.6/cvxpy/constraints\n",
      "  creating build/lib.macosx-10.7-x86_64-3.6/cvxpy/expressions\n",
      "  copying cvxpy/expressions/cvxtypes.py -> build/lib.macosx-10.7-x86_64-3.6/cvxpy/expressions\n",
      "  copying cvxpy/expressions/leaf.py -> build/lib.macosx-10.7-x86_64-3.6/cvxpy/expressions\n",
      "  copying cvxpy/expressions/__init__.py -> build/lib.macosx-10.7-x86_64-3.6/cvxpy/expressions\n",
      "  copying cvxpy/expressions/variable.py -> build/lib.macosx-10.7-x86_64-3.6/cvxpy/expressions\n",
      "  copying cvxpy/expressions/expression.py -> build/lib.macosx-10.7-x86_64-3.6/cvxpy/expressions\n",
      "  creating build/lib.macosx-10.7-x86_64-3.6/cvxpy/expressions/constants\n",
      "  copying cvxpy/expressions/constants/__init__.py -> build/lib.macosx-10.7-x86_64-3.6/cvxpy/expressions/constants\n",
      "  copying cvxpy/expressions/constants/callback_param.py -> build/lib.macosx-10.7-x86_64-3.6/cvxpy/expressions/constants\n",
      "  copying cvxpy/expressions/constants/constant.py -> build/lib.macosx-10.7-x86_64-3.6/cvxpy/expressions/constants\n",
      "  copying cvxpy/expressions/constants/parameter.py -> build/lib.macosx-10.7-x86_64-3.6/cvxpy/expressions/constants\n",
      "  creating build/lib.macosx-10.7-x86_64-3.6/cvxpy/interface\n",
      "  copying cvxpy/interface/base_matrix_interface.py -> build/lib.macosx-10.7-x86_64-3.6/cvxpy/interface\n",
      "  copying cvxpy/interface/__init__.py -> build/lib.macosx-10.7-x86_64-3.6/cvxpy/interface\n",
      "  copying cvxpy/interface/scipy_wrapper.py -> build/lib.macosx-10.7-x86_64-3.6/cvxpy/interface\n",
      "  copying cvxpy/interface/matrix_utilities.py -> build/lib.macosx-10.7-x86_64-3.6/cvxpy/interface\n",
      "  creating build/lib.macosx-10.7-x86_64-3.6/cvxpy/interface/numpy_interface\n",
      "  copying cvxpy/interface/numpy_interface/matrix_interface.py -> build/lib.macosx-10.7-x86_64-3.6/cvxpy/interface/numpy_interface\n",
      "  copying cvxpy/interface/numpy_interface/sparse_matrix_interface.py -> build/lib.macosx-10.7-x86_64-3.6/cvxpy/interface/numpy_interface\n",
      "  copying cvxpy/interface/numpy_interface/__init__.py -> build/lib.macosx-10.7-x86_64-3.6/cvxpy/interface/numpy_interface\n",
      "  copying cvxpy/interface/numpy_interface/ndarray_interface.py -> build/lib.macosx-10.7-x86_64-3.6/cvxpy/interface/numpy_interface\n",
      "  creating build/lib.macosx-10.7-x86_64-3.6/cvxpy/lin_ops\n",
      "  copying cvxpy/lin_ops/__init__.py -> build/lib.macosx-10.7-x86_64-3.6/cvxpy/lin_ops\n",
      "  copying cvxpy/lin_ops/lin_op.py -> build/lib.macosx-10.7-x86_64-3.6/cvxpy/lin_ops\n",
      "  copying cvxpy/lin_ops/lin_constraints.py -> build/lib.macosx-10.7-x86_64-3.6/cvxpy/lin_ops\n",
      "  copying cvxpy/lin_ops/lin_utils.py -> build/lib.macosx-10.7-x86_64-3.6/cvxpy/lin_ops\n",
      "  copying cvxpy/lin_ops/tree_mat.py -> build/lib.macosx-10.7-x86_64-3.6/cvxpy/lin_ops\n",
      "  creating build/lib.macosx-10.7-x86_64-3.6/cvxpy/problems\n",
      "  copying cvxpy/problems/kktsolver.py -> build/lib.macosx-10.7-x86_64-3.6/cvxpy/problems\n",
      "  copying cvxpy/problems/objective.py -> build/lib.macosx-10.7-x86_64-3.6/cvxpy/problems\n",
      "  copying cvxpy/problems/xpress_problem.py -> build/lib.macosx-10.7-x86_64-3.6/cvxpy/problems\n",
      "  copying cvxpy/problems/__init__.py -> build/lib.macosx-10.7-x86_64-3.6/cvxpy/problems\n",
      "  copying cvxpy/problems/problem.py -> build/lib.macosx-10.7-x86_64-3.6/cvxpy/problems\n",
      "  copying cvxpy/problems/iterative.py -> build/lib.macosx-10.7-x86_64-3.6/cvxpy/problems\n",
      "  creating build/lib.macosx-10.7-x86_64-3.6/cvxpy/problems/problem_data\n",
      "  copying cvxpy/problems/problem_data/problem_data.py -> build/lib.macosx-10.7-x86_64-3.6/cvxpy/problems/problem_data\n",
      "  copying cvxpy/problems/problem_data/sym_data.py -> build/lib.macosx-10.7-x86_64-3.6/cvxpy/problems/problem_data\n",
      "  copying cvxpy/problems/problem_data/__init__.py -> build/lib.macosx-10.7-x86_64-3.6/cvxpy/problems/problem_data\n",
      "  copying cvxpy/problems/problem_data/compr_matrix.py -> build/lib.macosx-10.7-x86_64-3.6/cvxpy/problems/problem_data\n",
      "  copying cvxpy/problems/problem_data/matrix_data.py -> build/lib.macosx-10.7-x86_64-3.6/cvxpy/problems/problem_data\n",
      "  creating build/lib.macosx-10.7-x86_64-3.6/cvxpy/problems/solvers\n",
      "  copying cvxpy/problems/solvers/ecos_intf.py -> build/lib.macosx-10.7-x86_64-3.6/cvxpy/problems/solvers\n",
      "  copying cvxpy/problems/solvers/glpk_mi_intf.py -> build/lib.macosx-10.7-x86_64-3.6/cvxpy/problems/solvers\n",
      "  copying cvxpy/problems/solvers/glpk_intf.py -> build/lib.macosx-10.7-x86_64-3.6/cvxpy/problems/solvers\n",
      "  copying cvxpy/problems/solvers/solver.py -> build/lib.macosx-10.7-x86_64-3.6/cvxpy/problems/solvers\n",
      "  copying cvxpy/problems/solvers/gurobi_intf.py -> build/lib.macosx-10.7-x86_64-3.6/cvxpy/problems/solvers\n",
      "  copying cvxpy/problems/solvers/xpress_intf.py -> build/lib.macosx-10.7-x86_64-3.6/cvxpy/problems/solvers\n",
      "  copying cvxpy/problems/solvers/cbc_intf.py -> build/lib.macosx-10.7-x86_64-3.6/cvxpy/problems/solvers\n",
      "  copying cvxpy/problems/solvers/__init__.py -> build/lib.macosx-10.7-x86_64-3.6/cvxpy/problems/solvers\n",
      "  copying cvxpy/problems/solvers/cvxopt_intf.py -> build/lib.macosx-10.7-x86_64-3.6/cvxpy/problems/solvers\n",
      "  creating build/lib.macosx-10.7-x86_64-3.6/cvxpy/reductions\n",
      "  copying cvxpy/reductions/cvx_attr2constr.py -> build/lib.macosx-10.7-x86_64-3.6/cvxpy/reductions\n",
      "  copying cvxpy/reductions/canonicalization.py -> build/lib.macosx-10.7-x86_64-3.6/cvxpy/reductions\n",
      "  copying cvxpy/reductions/reduction.py -> build/lib.macosx-10.7-x86_64-3.6/cvxpy/reductions\n",
      "  copying cvxpy/reductions/chain.py -> build/lib.macosx-10.7-x86_64-3.6/cvxpy/reductions\n",
      "  copying cvxpy/reductions/solution.py -> build/lib.macosx-10.7-x86_64-3.6/cvxpy/reductions\n",
      "  copying cvxpy/reductions/__init__.py -> build/lib.macosx-10.7-x86_64-3.6/cvxpy/reductions\n",
      "  copying cvxpy/reductions/inverse_data.py -> build/lib.macosx-10.7-x86_64-3.6/cvxpy/reductions\n",
      "  copying cvxpy/reductions/eval_params.py -> build/lib.macosx-10.7-x86_64-3.6/cvxpy/reductions\n",
      "  copying cvxpy/reductions/matrix_stuffing.py -> build/lib.macosx-10.7-x86_64-3.6/cvxpy/reductions\n",
      "  copying cvxpy/reductions/utilities.py -> build/lib.macosx-10.7-x86_64-3.6/cvxpy/reductions\n",
      "  copying cvxpy/reductions/flip_objective.py -> build/lib.macosx-10.7-x86_64-3.6/cvxpy/reductions\n",
      "  creating build/lib.macosx-10.7-x86_64-3.6/cvxpy/reductions/complex2real\n",
      "  copying cvxpy/reductions/complex2real/complex2real.py -> build/lib.macosx-10.7-x86_64-3.6/cvxpy/reductions/complex2real\n",
      "  copying cvxpy/reductions/complex2real/__init__.py -> build/lib.macosx-10.7-x86_64-3.6/cvxpy/reductions/complex2real\n",
      "  creating build/lib.macosx-10.7-x86_64-3.6/cvxpy/reductions/complex2real/atom_canonicalizers\n",
      "  copying cvxpy/reductions/complex2real/atom_canonicalizers/constant_canon.py -> build/lib.macosx-10.7-x86_64-3.6/cvxpy/reductions/complex2real/atom_canonicalizers\n",
      "  copying cvxpy/reductions/complex2real/atom_canonicalizers/variable_canon.py -> build/lib.macosx-10.7-x86_64-3.6/cvxpy/reductions/complex2real/atom_canonicalizers\n",
      "  copying cvxpy/reductions/complex2real/atom_canonicalizers/__init__.py -> build/lib.macosx-10.7-x86_64-3.6/cvxpy/reductions/complex2real/atom_canonicalizers\n",
      "  copying cvxpy/reductions/complex2real/atom_canonicalizers/aff_canon.py -> build/lib.macosx-10.7-x86_64-3.6/cvxpy/reductions/complex2real/atom_canonicalizers\n",
      "  copying cvxpy/reductions/complex2real/atom_canonicalizers/pnorm_canon.py -> build/lib.macosx-10.7-x86_64-3.6/cvxpy/reductions/complex2real/atom_canonicalizers\n",
      "  copying cvxpy/reductions/complex2real/atom_canonicalizers/matrix_canon.py -> build/lib.macosx-10.7-x86_64-3.6/cvxpy/reductions/complex2real/atom_canonicalizers\n",
      "  copying cvxpy/reductions/complex2real/atom_canonicalizers/zero_canon.py -> build/lib.macosx-10.7-x86_64-3.6/cvxpy/reductions/complex2real/atom_canonicalizers\n",
      "  copying cvxpy/reductions/complex2real/atom_canonicalizers/abs_canon.py -> build/lib.macosx-10.7-x86_64-3.6/cvxpy/reductions/complex2real/atom_canonicalizers\n",
      "  creating build/lib.macosx-10.7-x86_64-3.6/cvxpy/reductions/dcp2cone\n",
      "  copying cvxpy/reductions/dcp2cone/__init__.py -> build/lib.macosx-10.7-x86_64-3.6/cvxpy/reductions/dcp2cone\n",
      "  copying cvxpy/reductions/dcp2cone/cone_matrix_stuffing.py -> build/lib.macosx-10.7-x86_64-3.6/cvxpy/reductions/dcp2cone\n",
      "  copying cvxpy/reductions/dcp2cone/dcp2cone.py -> build/lib.macosx-10.7-x86_64-3.6/cvxpy/reductions/dcp2cone\n",
      "  creating build/lib.macosx-10.7-x86_64-3.6/cvxpy/reductions/dcp2cone/atom_canonicalizers\n",
      "  copying cvxpy/reductions/dcp2cone/atom_canonicalizers/quad_form_canon.py -> build/lib.macosx-10.7-x86_64-3.6/cvxpy/reductions/dcp2cone/atom_canonicalizers\n",
      "  copying cvxpy/reductions/dcp2cone/atom_canonicalizers/log1p_canon.py -> build/lib.macosx-10.7-x86_64-3.6/cvxpy/reductions/dcp2cone/atom_canonicalizers\n",
      "  copying cvxpy/reductions/dcp2cone/atom_canonicalizers/log_det_canon.py -> build/lib.macosx-10.7-x86_64-3.6/cvxpy/reductions/dcp2cone/atom_canonicalizers\n",
      "  copying cvxpy/reductions/dcp2cone/atom_canonicalizers/geo_mean_canon.py -> build/lib.macosx-10.7-x86_64-3.6/cvxpy/reductions/dcp2cone/atom_canonicalizers\n",
      "  copying cvxpy/reductions/dcp2cone/atom_canonicalizers/exp_canon.py -> build/lib.macosx-10.7-x86_64-3.6/cvxpy/reductions/dcp2cone/atom_canonicalizers\n",
      "  copying cvxpy/reductions/dcp2cone/atom_canonicalizers/quad_over_lin_canon.py -> build/lib.macosx-10.7-x86_64-3.6/cvxpy/reductions/dcp2cone/atom_canonicalizers\n",
      "  copying cvxpy/reductions/dcp2cone/atom_canonicalizers/power_canon.py -> build/lib.macosx-10.7-x86_64-3.6/cvxpy/reductions/dcp2cone/atom_canonicalizers\n",
      "  copying cvxpy/reductions/dcp2cone/atom_canonicalizers/log_sum_exp_canon.py -> build/lib.macosx-10.7-x86_64-3.6/cvxpy/reductions/dcp2cone/atom_canonicalizers\n",
      "  copying cvxpy/reductions/dcp2cone/atom_canonicalizers/__init__.py -> build/lib.macosx-10.7-x86_64-3.6/cvxpy/reductions/dcp2cone/atom_canonicalizers\n",
      "  copying cvxpy/reductions/dcp2cone/atom_canonicalizers/normNuc_canon.py -> build/lib.macosx-10.7-x86_64-3.6/cvxpy/reductions/dcp2cone/atom_canonicalizers\n",
      "  copying cvxpy/reductions/dcp2cone/atom_canonicalizers/logistic_canon.py -> build/lib.macosx-10.7-x86_64-3.6/cvxpy/reductions/dcp2cone/atom_canonicalizers\n",
      "  copying cvxpy/reductions/dcp2cone/atom_canonicalizers/matrix_frac_canon.py -> build/lib.macosx-10.7-x86_64-3.6/cvxpy/reductions/dcp2cone/atom_canonicalizers\n",
      "  copying cvxpy/reductions/dcp2cone/atom_canonicalizers/sigma_max_canon.py -> build/lib.macosx-10.7-x86_64-3.6/cvxpy/reductions/dcp2cone/atom_canonicalizers\n",
      "  copying cvxpy/reductions/dcp2cone/atom_canonicalizers/cumsum_canon.py -> build/lib.macosx-10.7-x86_64-3.6/cvxpy/reductions/dcp2cone/atom_canonicalizers\n",
      "  copying cvxpy/reductions/dcp2cone/atom_canonicalizers/pnorm_canon.py -> build/lib.macosx-10.7-x86_64-3.6/cvxpy/reductions/dcp2cone/atom_canonicalizers\n",
      "  copying cvxpy/reductions/dcp2cone/atom_canonicalizers/lambda_sum_largest_canon.py -> build/lib.macosx-10.7-x86_64-3.6/cvxpy/reductions/dcp2cone/atom_canonicalizers\n",
      "  copying cvxpy/reductions/dcp2cone/atom_canonicalizers/lambda_max_canon.py -> build/lib.macosx-10.7-x86_64-3.6/cvxpy/reductions/dcp2cone/atom_canonicalizers\n",
      "  copying cvxpy/reductions/dcp2cone/atom_canonicalizers/huber_canon.py -> build/lib.macosx-10.7-x86_64-3.6/cvxpy/reductions/dcp2cone/atom_canonicalizers\n",
      "  copying cvxpy/reductions/dcp2cone/atom_canonicalizers/entr_canon.py -> build/lib.macosx-10.7-x86_64-3.6/cvxpy/reductions/dcp2cone/atom_canonicalizers\n",
      "  copying cvxpy/reductions/dcp2cone/atom_canonicalizers/log_canon.py -> build/lib.macosx-10.7-x86_64-3.6/cvxpy/reductions/dcp2cone/atom_canonicalizers\n",
      "  copying cvxpy/reductions/dcp2cone/atom_canonicalizers/indicator_canon.py -> build/lib.macosx-10.7-x86_64-3.6/cvxpy/reductions/dcp2cone/atom_canonicalizers\n",
      "  copying cvxpy/reductions/dcp2cone/atom_canonicalizers/kl_div_canon.py -> build/lib.macosx-10.7-x86_64-3.6/cvxpy/reductions/dcp2cone/atom_canonicalizers\n",
      "  creating build/lib.macosx-10.7-x86_64-3.6/cvxpy/reductions/eliminate_pwl\n",
      "  copying cvxpy/reductions/eliminate_pwl/eliminate_pwl.py -> build/lib.macosx-10.7-x86_64-3.6/cvxpy/reductions/eliminate_pwl\n",
      "  copying cvxpy/reductions/eliminate_pwl/__init__.py -> build/lib.macosx-10.7-x86_64-3.6/cvxpy/reductions/eliminate_pwl\n",
      "  creating build/lib.macosx-10.7-x86_64-3.6/cvxpy/reductions/eliminate_pwl/atom_canonicalizers\n",
      "  copying cvxpy/reductions/eliminate_pwl/atom_canonicalizers/norm1_canon.py -> build/lib.macosx-10.7-x86_64-3.6/cvxpy/reductions/eliminate_pwl/atom_canonicalizers\n",
      "  copying cvxpy/reductions/eliminate_pwl/atom_canonicalizers/__init__.py -> build/lib.macosx-10.7-x86_64-3.6/cvxpy/reductions/eliminate_pwl/atom_canonicalizers\n",
      "  copying cvxpy/reductions/eliminate_pwl/atom_canonicalizers/max_canon.py -> build/lib.macosx-10.7-x86_64-3.6/cvxpy/reductions/eliminate_pwl/atom_canonicalizers\n",
      "  copying cvxpy/reductions/eliminate_pwl/atom_canonicalizers/maximum_canon.py -> build/lib.macosx-10.7-x86_64-3.6/cvxpy/reductions/eliminate_pwl/atom_canonicalizers\n",
      "  copying cvxpy/reductions/eliminate_pwl/atom_canonicalizers/sum_largest_canon.py -> build/lib.macosx-10.7-x86_64-3.6/cvxpy/reductions/eliminate_pwl/atom_canonicalizers\n",
      "  copying cvxpy/reductions/eliminate_pwl/atom_canonicalizers/norm_inf_canon.py -> build/lib.macosx-10.7-x86_64-3.6/cvxpy/reductions/eliminate_pwl/atom_canonicalizers\n",
      "  copying cvxpy/reductions/eliminate_pwl/atom_canonicalizers/abs_canon.py -> build/lib.macosx-10.7-x86_64-3.6/cvxpy/reductions/eliminate_pwl/atom_canonicalizers\n",
      "  creating build/lib.macosx-10.7-x86_64-3.6/cvxpy/reductions/qp2quad_form\n",
      "  copying cvxpy/reductions/qp2quad_form/qp_matrix_stuffing.py -> build/lib.macosx-10.7-x86_64-3.6/cvxpy/reductions/qp2quad_form\n",
      "  copying cvxpy/reductions/qp2quad_form/__init__.py -> build/lib.macosx-10.7-x86_64-3.6/cvxpy/reductions/qp2quad_form\n",
      "  copying cvxpy/reductions/qp2quad_form/qp2symbolic_qp.py -> build/lib.macosx-10.7-x86_64-3.6/cvxpy/reductions/qp2quad_form\n",
      "  creating build/lib.macosx-10.7-x86_64-3.6/cvxpy/reductions/qp2quad_form/atom_canonicalizers\n",
      "  copying cvxpy/reductions/qp2quad_form/atom_canonicalizers/quad_form_canon.py -> build/lib.macosx-10.7-x86_64-3.6/cvxpy/reductions/qp2quad_form/atom_canonicalizers\n",
      "  copying cvxpy/reductions/qp2quad_form/atom_canonicalizers/quad_over_lin_canon.py -> build/lib.macosx-10.7-x86_64-3.6/cvxpy/reductions/qp2quad_form/atom_canonicalizers\n",
      "  copying cvxpy/reductions/qp2quad_form/atom_canonicalizers/power_canon.py -> build/lib.macosx-10.7-x86_64-3.6/cvxpy/reductions/qp2quad_form/atom_canonicalizers\n",
      "  copying cvxpy/reductions/qp2quad_form/atom_canonicalizers/__init__.py -> build/lib.macosx-10.7-x86_64-3.6/cvxpy/reductions/qp2quad_form/atom_canonicalizers\n",
      "  creating build/lib.macosx-10.7-x86_64-3.6/cvxpy/reductions/solvers\n",
      "  copying cvxpy/reductions/solvers/solving_chain.py -> build/lib.macosx-10.7-x86_64-3.6/cvxpy/reductions/solvers\n",
      "  copying cvxpy/reductions/solvers/solver.py -> build/lib.macosx-10.7-x86_64-3.6/cvxpy/reductions/solvers\n",
      "  copying cvxpy/reductions/solvers/__init__.py -> build/lib.macosx-10.7-x86_64-3.6/cvxpy/reductions/solvers\n",
      "  copying cvxpy/reductions/solvers/defines.py -> build/lib.macosx-10.7-x86_64-3.6/cvxpy/reductions/solvers\n",
      "  copying cvxpy/reductions/solvers/constant_solver.py -> build/lib.macosx-10.7-x86_64-3.6/cvxpy/reductions/solvers\n",
      "  copying cvxpy/reductions/solvers/utilities.py -> build/lib.macosx-10.7-x86_64-3.6/cvxpy/reductions/solvers\n",
      "  creating build/lib.macosx-10.7-x86_64-3.6/cvxpy/reductions/solvers/conic_solvers\n",
      "  copying cvxpy/reductions/solvers/conic_solvers/ls_conif.py -> build/lib.macosx-10.7-x86_64-3.6/cvxpy/reductions/solvers/conic_solvers\n",
      "  copying cvxpy/reductions/solvers/conic_solvers/conic_solver.py -> build/lib.macosx-10.7-x86_64-3.6/cvxpy/reductions/solvers/conic_solvers\n",
      "  copying cvxpy/reductions/solvers/conic_solvers/ecos_bb_conif.py -> build/lib.macosx-10.7-x86_64-3.6/cvxpy/reductions/solvers/conic_solvers\n",
      "  copying cvxpy/reductions/solvers/conic_solvers/cbc_conif.py -> build/lib.macosx-10.7-x86_64-3.6/cvxpy/reductions/solvers/conic_solvers\n",
      "  copying cvxpy/reductions/solvers/conic_solvers/elemental_conif.py -> build/lib.macosx-10.7-x86_64-3.6/cvxpy/reductions/solvers/conic_solvers\n",
      "  copying cvxpy/reductions/solvers/conic_solvers/ecos_conif.py -> build/lib.macosx-10.7-x86_64-3.6/cvxpy/reductions/solvers/conic_solvers\n",
      "  copying cvxpy/reductions/solvers/conic_solvers/mosek_conif.py -> build/lib.macosx-10.7-x86_64-3.6/cvxpy/reductions/solvers/conic_solvers\n",
      "  copying cvxpy/reductions/solvers/conic_solvers/scs_conif.py -> build/lib.macosx-10.7-x86_64-3.6/cvxpy/reductions/solvers/conic_solvers\n",
      "  copying cvxpy/reductions/solvers/conic_solvers/__init__.py -> build/lib.macosx-10.7-x86_64-3.6/cvxpy/reductions/solvers/conic_solvers\n",
      "  copying cvxpy/reductions/solvers/conic_solvers/xpress_conif.py -> build/lib.macosx-10.7-x86_64-3.6/cvxpy/reductions/solvers/conic_solvers\n",
      "  copying cvxpy/reductions/solvers/conic_solvers/cvxopt_conif.py -> build/lib.macosx-10.7-x86_64-3.6/cvxpy/reductions/solvers/conic_solvers\n",
      "  copying cvxpy/reductions/solvers/conic_solvers/glpk_mi_conif.py -> build/lib.macosx-10.7-x86_64-3.6/cvxpy/reductions/solvers/conic_solvers\n",
      "  copying cvxpy/reductions/solvers/conic_solvers/glpk_conif.py -> build/lib.macosx-10.7-x86_64-3.6/cvxpy/reductions/solvers/conic_solvers\n",
      "  copying cvxpy/reductions/solvers/conic_solvers/gurobi_conif.py -> build/lib.macosx-10.7-x86_64-3.6/cvxpy/reductions/solvers/conic_solvers\n",
      "  copying cvxpy/reductions/solvers/conic_solvers/julia_opt_conif.py -> build/lib.macosx-10.7-x86_64-3.6/cvxpy/reductions/solvers/conic_solvers\n",
      "  creating build/lib.macosx-10.7-x86_64-3.6/cvxpy/reductions/solvers/qp_solvers\n",
      "  copying cvxpy/reductions/solvers/qp_solvers/osqp_qpif.py -> build/lib.macosx-10.7-x86_64-3.6/cvxpy/reductions/solvers/qp_solvers\n",
      "  copying cvxpy/reductions/solvers/qp_solvers/qp_solver.py -> build/lib.macosx-10.7-x86_64-3.6/cvxpy/reductions/solvers/qp_solvers\n",
      "  copying cvxpy/reductions/solvers/qp_solvers/cplex_qpif.py -> build/lib.macosx-10.7-x86_64-3.6/cvxpy/reductions/solvers/qp_solvers\n",
      "  copying cvxpy/reductions/solvers/qp_solvers/__init__.py -> build/lib.macosx-10.7-x86_64-3.6/cvxpy/reductions/solvers/qp_solvers\n",
      "  copying cvxpy/reductions/solvers/qp_solvers/gurobi_qpif.py -> build/lib.macosx-10.7-x86_64-3.6/cvxpy/reductions/solvers/qp_solvers\n",
      "  creating build/lib.macosx-10.7-x86_64-3.6/cvxpy/reductions/solvers/lp_solvers\n",
      "  copying cvxpy/reductions/solvers/lp_solvers/__init__.py -> build/lib.macosx-10.7-x86_64-3.6/cvxpy/reductions/solvers/lp_solvers\n",
      "  copying cvxpy/reductions/solvers/lp_solvers/cbc_lpif.py -> build/lib.macosx-10.7-x86_64-3.6/cvxpy/reductions/solvers/lp_solvers\n",
      "  creating build/lib.macosx-10.7-x86_64-3.6/cvxpy/tests\n",
      "  copying cvxpy/tests/base_test.py -> build/lib.macosx-10.7-x86_64-3.6/cvxpy/tests\n",
      "  copying cvxpy/tests/test_mip_vars.py -> build/lib.macosx-10.7-x86_64-3.6/cvxpy/tests\n",
      "  copying cvxpy/tests/test_nonlinear_atoms.py -> build/lib.macosx-10.7-x86_64-3.6/cvxpy/tests\n",
      "  copying cvxpy/tests/test_expressions.py -> build/lib.macosx-10.7-x86_64-3.6/cvxpy/tests\n",
      "  copying cvxpy/tests/test_constant_atoms.py -> build/lib.macosx-10.7-x86_64-3.6/cvxpy/tests\n",
      "  copying cvxpy/tests/test_semidefinite_vars.py -> build/lib.macosx-10.7-x86_64-3.6/cvxpy/tests\n",
      "  copying cvxpy/tests/test_shape.py -> build/lib.macosx-10.7-x86_64-3.6/cvxpy/tests\n",
      "  copying cvxpy/tests/test_lin_ops.py -> build/lib.macosx-10.7-x86_64-3.6/cvxpy/tests\n",
      "  copying cvxpy/tests/test_atoms.py -> build/lib.macosx-10.7-x86_64-3.6/cvxpy/tests\n",
      "  copying cvxpy/tests/test_solvers.py -> build/lib.macosx-10.7-x86_64-3.6/cvxpy/tests\n",
      "  copying cvxpy/tests/test_scs.py -> build/lib.macosx-10.7-x86_64-3.6/cvxpy/tests\n",
      "  copying cvxpy/tests/test_objectives.py -> build/lib.macosx-10.7-x86_64-3.6/cvxpy/tests\n",
      "  copying cvxpy/tests/test_convolution.py -> build/lib.macosx-10.7-x86_64-3.6/cvxpy/tests\n",
      "  copying cvxpy/tests/__init__.py -> build/lib.macosx-10.7-x86_64-3.6/cvxpy/tests\n",
      "  copying cvxpy/tests/test_qp.py -> build/lib.macosx-10.7-x86_64-3.6/cvxpy/tests\n",
      "  copying cvxpy/tests/test_mosek_conif.py -> build/lib.macosx-10.7-x86_64-3.6/cvxpy/tests\n",
      "  copying cvxpy/tests/test_matrices.py -> build/lib.macosx-10.7-x86_64-3.6/cvxpy/tests\n",
      "  copying cvxpy/tests/test_cbc.py -> build/lib.macosx-10.7-x86_64-3.6/cvxpy/tests\n",
      "  copying cvxpy/tests/test_non_optimal.py -> build/lib.macosx-10.7-x86_64-3.6/cvxpy/tests\n",
      "  copying cvxpy/tests/test_quad_form.py -> build/lib.macosx-10.7-x86_64-3.6/cvxpy/tests\n",
      "  copying cvxpy/tests/test_constraints.py -> build/lib.macosx-10.7-x86_64-3.6/cvxpy/tests\n",
      "  copying cvxpy/tests/test_monotonicity.py -> build/lib.macosx-10.7-x86_64-3.6/cvxpy/tests\n",
      "  copying cvxpy/tests/test_quadratic.py -> build/lib.macosx-10.7-x86_64-3.6/cvxpy/tests\n",
      "  copying cvxpy/tests/test_domain.py -> build/lib.macosx-10.7-x86_64-3.6/cvxpy/tests\n",
      "  copying cvxpy/tests/test_problem.py -> build/lib.macosx-10.7-x86_64-3.6/cvxpy/tests\n",
      "  copying cvxpy/tests/test_complex.py -> build/lib.macosx-10.7-x86_64-3.6/cvxpy/tests\n",
      "  copying cvxpy/tests/test_linear_cone.py -> build/lib.macosx-10.7-x86_64-3.6/cvxpy/tests\n",
      "  copying cvxpy/tests/test_interfaces.py -> build/lib.macosx-10.7-x86_64-3.6/cvxpy/tests\n",
      "  copying cvxpy/tests/test_curvature.py -> build/lib.macosx-10.7-x86_64-3.6/cvxpy/tests\n",
      "  copying cvxpy/tests/test_elemental.py -> build/lib.macosx-10.7-x86_64-3.6/cvxpy/tests\n",
      "  copying cvxpy/tests/test_julia_opt.py -> build/lib.macosx-10.7-x86_64-3.6/cvxpy/tests\n",
      "  copying cvxpy/tests/test_examples.py -> build/lib.macosx-10.7-x86_64-3.6/cvxpy/tests\n",
      "  copying cvxpy/tests/test_sign.py -> build/lib.macosx-10.7-x86_64-3.6/cvxpy/tests\n",
      "  copying cvxpy/tests/test_grad.py -> build/lib.macosx-10.7-x86_64-3.6/cvxpy/tests\n",
      "  creating build/lib.macosx-10.7-x86_64-3.6/cvxpy/transforms\n",
      "  copying cvxpy/transforms/indicator.py -> build/lib.macosx-10.7-x86_64-3.6/cvxpy/transforms\n",
      "  copying cvxpy/transforms/__init__.py -> build/lib.macosx-10.7-x86_64-3.6/cvxpy/transforms\n",
      "  copying cvxpy/transforms/separable_problems.py -> build/lib.macosx-10.7-x86_64-3.6/cvxpy/transforms\n",
      "  copying cvxpy/transforms/partial_optimize.py -> build/lib.macosx-10.7-x86_64-3.6/cvxpy/transforms\n",
      "  copying cvxpy/transforms/linearize.py -> build/lib.macosx-10.7-x86_64-3.6/cvxpy/transforms\n",
      "  copying cvxpy/transforms/scalarize.py -> build/lib.macosx-10.7-x86_64-3.6/cvxpy/transforms\n",
      "  creating build/lib.macosx-10.7-x86_64-3.6/cvxpy/utilities\n",
      "  copying cvxpy/utilities/cvxpy_upgrade.py -> build/lib.macosx-10.7-x86_64-3.6/cvxpy/utilities\n",
      "  copying cvxpy/utilities/replace_quad_forms.py -> build/lib.macosx-10.7-x86_64-3.6/cvxpy/utilities\n",
      "  copying cvxpy/utilities/power_tools.py -> build/lib.macosx-10.7-x86_64-3.6/cvxpy/utilities\n",
      "  copying cvxpy/utilities/performance_utils.py -> build/lib.macosx-10.7-x86_64-3.6/cvxpy/utilities\n",
      "  copying cvxpy/utilities/__init__.py -> build/lib.macosx-10.7-x86_64-3.6/cvxpy/utilities\n",
      "  copying cvxpy/utilities/key_utils.py -> build/lib.macosx-10.7-x86_64-3.6/cvxpy/utilities\n",
      "  copying cvxpy/utilities/canonical.py -> build/lib.macosx-10.7-x86_64-3.6/cvxpy/utilities\n",
      "  copying cvxpy/utilities/shape.py -> build/lib.macosx-10.7-x86_64-3.6/cvxpy/utilities\n",
      "  copying cvxpy/utilities/sign.py -> build/lib.macosx-10.7-x86_64-3.6/cvxpy/utilities\n",
      "  copying cvxpy/utilities/grad.py -> build/lib.macosx-10.7-x86_64-3.6/cvxpy/utilities\n",
      "  copying cvxpy/utilities/coeff_extractor.py -> build/lib.macosx-10.7-x86_64-3.6/cvxpy/utilities\n",
      "  Fixing build/lib.macosx-10.7-x86_64-3.6/cvxpy/error.py build/lib.macosx-10.7-x86_64-3.6/cvxpy/__init__.py build/lib.macosx-10.7-x86_64-3.6/cvxpy/settings.py build/lib.macosx-10.7-x86_64-3.6/cvxpy/atoms/max.py build/lib.macosx-10.7-x86_64-3.6/cvxpy/atoms/cummax.py build/lib.macosx-10.7-x86_64-3.6/cvxpy/atoms/matrix_frac.py build/lib.macosx-10.7-x86_64-3.6/cvxpy/atoms/lambda_max.py build/lib.macosx-10.7-x86_64-3.6/cvxpy/atoms/sigma_max.py build/lib.macosx-10.7-x86_64-3.6/cvxpy/atoms/total_variation.py build/lib.macosx-10.7-x86_64-3.6/cvxpy/atoms/sum_smallest.py build/lib.macosx-10.7-x86_64-3.6/cvxpy/atoms/norm1.py build/lib.macosx-10.7-x86_64-3.6/cvxpy/atoms/lambda_sum_smallest.py build/lib.macosx-10.7-x86_64-3.6/cvxpy/atoms/norm.py build/lib.macosx-10.7-x86_64-3.6/cvxpy/atoms/pnorm.py build/lib.macosx-10.7-x86_64-3.6/cvxpy/atoms/__init__.py build/lib.macosx-10.7-x86_64-3.6/cvxpy/atoms/sum_largest.py build/lib.macosx-10.7-x86_64-3.6/cvxpy/atoms/lambda_sum_largest.py build/lib.macosx-10.7-x86_64-3.6/cvxpy/atoms/sum_squares.py build/lib.macosx-10.7-x86_64-3.6/cvxpy/atoms/log_sum_exp.py build/lib.macosx-10.7-x86_64-3.6/cvxpy/atoms/norm_nuc.py build/lib.macosx-10.7-x86_64-3.6/cvxpy/atoms/mixed_norm.py build/lib.macosx-10.7-x86_64-3.6/cvxpy/atoms/min.py build/lib.macosx-10.7-x86_64-3.6/cvxpy/atoms/quad_over_lin.py build/lib.macosx-10.7-x86_64-3.6/cvxpy/atoms/geo_mean.py build/lib.macosx-10.7-x86_64-3.6/cvxpy/atoms/axis_atom.py build/lib.macosx-10.7-x86_64-3.6/cvxpy/atoms/lambda_min.py build/lib.macosx-10.7-x86_64-3.6/cvxpy/atoms/norm_inf.py build/lib.macosx-10.7-x86_64-3.6/cvxpy/atoms/quad_form.py build/lib.macosx-10.7-x86_64-3.6/cvxpy/atoms/log_det.py build/lib.macosx-10.7-x86_64-3.6/cvxpy/atoms/harmonic_mean.py build/lib.macosx-10.7-x86_64-3.6/cvxpy/atoms/atom.py build/lib.macosx-10.7-x86_64-3.6/cvxpy/atoms/affine/vec.py build/lib.macosx-10.7-x86_64-3.6/cvxpy/atoms/affine/trace.py build/lib.macosx-10.7-x86_64-3.6/cvxpy/atoms/affine/unary_operators.py build/lib.macosx-10.7-x86_64-3.6/cvxpy/atoms/affine/vstack.py build/lib.macosx-10.7-x86_64-3.6/cvxpy/atoms/affine/affine_atom.py build/lib.macosx-10.7-x86_64-3.6/cvxpy/atoms/affine/index.py build/lib.macosx-10.7-x86_64-3.6/cvxpy/atoms/affine/upper_tri.py build/lib.macosx-10.7-x86_64-3.6/cvxpy/atoms/affine/binary_operators.py build/lib.macosx-10.7-x86_64-3.6/cvxpy/atoms/affine/hstack.py build/lib.macosx-10.7-x86_64-3.6/cvxpy/atoms/affine/reshape.py build/lib.macosx-10.7-x86_64-3.6/cvxpy/atoms/affine/bmat.py build/lib.macosx-10.7-x86_64-3.6/cvxpy/atoms/affine/__init__.py build/lib.macosx-10.7-x86_64-3.6/cvxpy/atoms/affine/promote.py build/lib.macosx-10.7-x86_64-3.6/cvxpy/atoms/affine/real.py build/lib.macosx-10.7-x86_64-3.6/cvxpy/atoms/affine/kron.py build/lib.macosx-10.7-x86_64-3.6/cvxpy/atoms/affine/imag.py build/lib.macosx-10.7-x86_64-3.6/cvxpy/atoms/affine/transpose.py build/lib.macosx-10.7-x86_64-3.6/cvxpy/atoms/affine/diag.py build/lib.macosx-10.7-x86_64-3.6/cvxpy/atoms/affine/add_expr.py build/lib.macosx-10.7-x86_64-3.6/cvxpy/atoms/affine/diff.py build/lib.macosx-10.7-x86_64-3.6/cvxpy/atoms/affine/sum.py build/lib.macosx-10.7-x86_64-3.6/cvxpy/atoms/affine/conv.py build/lib.macosx-10.7-x86_64-3.6/cvxpy/atoms/affine/cumsum.py build/lib.macosx-10.7-x86_64-3.6/cvxpy/atoms/affine/conj.py build/lib.macosx-10.7-x86_64-3.6/cvxpy/atoms/elementwise/kl_div.py build/lib.macosx-10.7-x86_64-3.6/cvxpy/atoms/elementwise/pos.py build/lib.macosx-10.7-x86_64-3.6/cvxpy/atoms/elementwise/neg.py build/lib.macosx-10.7-x86_64-3.6/cvxpy/atoms/elementwise/sqrt.py build/lib.macosx-10.7-x86_64-3.6/cvxpy/atoms/elementwise/entr.py build/lib.macosx-10.7-x86_64-3.6/cvxpy/atoms/elementwise/log.py build/lib.macosx-10.7-x86_64-3.6/cvxpy/atoms/elementwise/logistic.py build/lib.macosx-10.7-x86_64-3.6/cvxpy/atoms/elementwise/elementwise.py build/lib.macosx-10.7-x86_64-3.6/cvxpy/atoms/elementwise/abs.py build/lib.macosx-10.7-x86_64-3.6/cvxpy/atoms/elementwise/__init__.py build/lib.macosx-10.7-x86_64-3.6/cvxpy/atoms/elementwise/maximum.py build/lib.macosx-10.7-x86_64-3.6/cvxpy/atoms/elementwise/minimum.py build/lib.macosx-10.7-x86_64-3.6/cvxpy/atoms/elementwise/huber.py build/lib.macosx-10.7-x86_64-3.6/cvxpy/atoms/elementwise/scalene.py build/lib.macosx-10.7-x86_64-3.6/cvxpy/atoms/elementwise/square.py build/lib.macosx-10.7-x86_64-3.6/cvxpy/atoms/elementwise/inv_pos.py build/lib.macosx-10.7-x86_64-3.6/cvxpy/atoms/elementwise/exp.py build/lib.macosx-10.7-x86_64-3.6/cvxpy/atoms/elementwise/log1p.py build/lib.macosx-10.7-x86_64-3.6/cvxpy/atoms/elementwise/power.py build/lib.macosx-10.7-x86_64-3.6/cvxpy/cvxcore/__init__.py build/lib.macosx-10.7-x86_64-3.6/cvxpy/cvxcore/python/canonInterface.py build/lib.macosx-10.7-x86_64-3.6/cvxpy/cvxcore/python/__init__.py build/lib.macosx-10.7-x86_64-3.6/cvxpy/cvxcore/python/cvxcore.py build/lib.macosx-10.7-x86_64-3.6/cvxpy/constraints/constraint.py build/lib.macosx-10.7-x86_64-3.6/cvxpy/constraints/nonlinear.py build/lib.macosx-10.7-x86_64-3.6/cvxpy/constraints/__init__.py build/lib.macosx-10.7-x86_64-3.6/cvxpy/constraints/second_order.py build/lib.macosx-10.7-x86_64-3.6/cvxpy/constraints/exponential.py build/lib.macosx-10.7-x86_64-3.6/cvxpy/constraints/zero.py build/lib.macosx-10.7-x86_64-3.6/cvxpy/constraints/nonpos.py build/lib.macosx-10.7-x86_64-3.6/cvxpy/constraints/soc_axis.py build/lib.macosx-10.7-x86_64-3.6/cvxpy/constraints/psd.py build/lib.macosx-10.7-x86_64-3.6/cvxpy/constraints/utilities.py build/lib.macosx-10.7-x86_64-3.6/cvxpy/expressions/cvxtypes.py build/lib.macosx-10.7-x86_64-3.6/cvxpy/expressions/leaf.py build/lib.macosx-10.7-x86_64-3.6/cvxpy/expressions/__init__.py build/lib.macosx-10.7-x86_64-3.6/cvxpy/expressions/variable.py build/lib.macosx-10.7-x86_64-3.6/cvxpy/expressions/expression.py build/lib.macosx-10.7-x86_64-3.6/cvxpy/expressions/constants/__init__.py build/lib.macosx-10.7-x86_64-3.6/cvxpy/expressions/constants/callback_param.py build/lib.macosx-10.7-x86_64-3.6/cvxpy/expressions/constants/constant.py build/lib.macosx-10.7-x86_64-3.6/cvxpy/expressions/constants/parameter.py build/lib.macosx-10.7-x86_64-3.6/cvxpy/interface/base_matrix_interface.py build/lib.macosx-10.7-x86_64-3.6/cvxpy/interface/__init__.py build/lib.macosx-10.7-x86_64-3.6/cvxpy/interface/scipy_wrapper.py build/lib.macosx-10.7-x86_64-3.6/cvxpy/interface/matrix_utilities.py build/lib.macosx-10.7-x86_64-3.6/cvxpy/interface/numpy_interface/matrix_interface.py build/lib.macosx-10.7-x86_64-3.6/cvxpy/interface/numpy_interface/sparse_matrix_interface.py build/lib.macosx-10.7-x86_64-3.6/cvxpy/interface/numpy_interface/__init__.py build/lib.macosx-10.7-x86_64-3.6/cvxpy/interface/numpy_interface/ndarray_interface.py build/lib.macosx-10.7-x86_64-3.6/cvxpy/lin_ops/__init__.py build/lib.macosx-10.7-x86_64-3.6/cvxpy/lin_ops/lin_op.py build/lib.macosx-10.7-x86_64-3.6/cvxpy/lin_ops/lin_constraints.py build/lib.macosx-10.7-x86_64-3.6/cvxpy/lin_ops/lin_utils.py build/lib.macosx-10.7-x86_64-3.6/cvxpy/lin_ops/tree_mat.py build/lib.macosx-10.7-x86_64-3.6/cvxpy/problems/kktsolver.py build/lib.macosx-10.7-x86_64-3.6/cvxpy/problems/objective.py build/lib.macosx-10.7-x86_64-3.6/cvxpy/problems/xpress_problem.py build/lib.macosx-10.7-x86_64-3.6/cvxpy/problems/__init__.py build/lib.macosx-10.7-x86_64-3.6/cvxpy/problems/problem.py build/lib.macosx-10.7-x86_64-3.6/cvxpy/problems/iterative.py build/lib.macosx-10.7-x86_64-3.6/cvxpy/problems/problem_data/problem_data.py build/lib.macosx-10.7-x86_64-3.6/cvxpy/problems/problem_data/sym_data.py build/lib.macosx-10.7-x86_64-3.6/cvxpy/problems/problem_data/__init__.py build/lib.macosx-10.7-x86_64-3.6/cvxpy/problems/problem_data/compr_matrix.py build/lib.macosx-10.7-x86_64-3.6/cvxpy/problems/problem_data/matrix_data.py build/lib.macosx-10.7-x86_64-3.6/cvxpy/problems/solvers/ecos_intf.py build/lib.macosx-10.7-x86_64-3.6/cvxpy/problems/solvers/glpk_mi_intf.py build/lib.macosx-10.7-x86_64-3.6/cvxpy/problems/solvers/glpk_intf.py build/lib.macosx-10.7-x86_64-3.6/cvxpy/problems/solvers/solver.py build/lib.macosx-10.7-x86_64-3.6/cvxpy/problems/solvers/gurobi_intf.py build/lib.macosx-10.7-x86_64-3.6/cvxpy/problems/solvers/xpress_intf.py build/lib.macosx-10.7-x86_64-3.6/cvxpy/problems/solvers/cbc_intf.py build/lib.macosx-10.7-x86_64-3.6/cvxpy/problems/solvers/__init__.py build/lib.macosx-10.7-x86_64-3.6/cvxpy/problems/solvers/cvxopt_intf.py build/lib.macosx-10.7-x86_64-3.6/cvxpy/reductions/cvx_attr2constr.py build/lib.macosx-10.7-x86_64-3.6/cvxpy/reductions/canonicalization.py build/lib.macosx-10.7-x86_64-3.6/cvxpy/reductions/reduction.py build/lib.macosx-10.7-x86_64-3.6/cvxpy/reductions/chain.py build/lib.macosx-10.7-x86_64-3.6/cvxpy/reductions/solution.py build/lib.macosx-10.7-x86_64-3.6/cvxpy/reductions/__init__.py build/lib.macosx-10.7-x86_64-3.6/cvxpy/reductions/inverse_data.py build/lib.macosx-10.7-x86_64-3.6/cvxpy/reductions/eval_params.py build/lib.macosx-10.7-x86_64-3.6/cvxpy/reductions/matrix_stuffing.py build/lib.macosx-10.7-x86_64-3.6/cvxpy/reductions/utilities.py build/lib.macosx-10.7-x86_64-3.6/cvxpy/reductions/flip_objective.py build/lib.macosx-10.7-x86_64-3.6/cvxpy/reductions/complex2real/complex2real.py build/lib.macosx-10.7-x86_64-3.6/cvxpy/reductions/complex2real/__init__.py build/lib.macosx-10.7-x86_64-3.6/cvxpy/reductions/complex2real/atom_canonicalizers/constant_canon.py build/lib.macosx-10.7-x86_64-3.6/cvxpy/reductions/complex2real/atom_canonicalizers/variable_canon.py build/lib.macosx-10.7-x86_64-3.6/cvxpy/reductions/complex2real/atom_canonicalizers/__init__.py build/lib.macosx-10.7-x86_64-3.6/cvxpy/reductions/complex2real/atom_canonicalizers/aff_canon.py build/lib.macosx-10.7-x86_64-3.6/cvxpy/reductions/complex2real/atom_canonicalizers/pnorm_canon.py build/lib.macosx-10.7-x86_64-3.6/cvxpy/reductions/complex2real/atom_canonicalizers/matrix_canon.py build/lib.macosx-10.7-x86_64-3.6/cvxpy/reductions/complex2real/atom_canonicalizers/zero_canon.py build/lib.macosx-10.7-x86_64-3.6/cvxpy/reductions/complex2real/atom_canonicalizers/abs_canon.py build/lib.macosx-10.7-x86_64-3.6/cvxpy/reductions/dcp2cone/__init__.py build/lib.macosx-10.7-x86_64-3.6/cvxpy/reductions/dcp2cone/cone_matrix_stuffing.py build/lib.macosx-10.7-x86_64-3.6/cvxpy/reductions/dcp2cone/dcp2cone.py build/lib.macosx-10.7-x86_64-3.6/cvxpy/reductions/dcp2cone/atom_canonicalizers/quad_form_canon.py build/lib.macosx-10.7-x86_64-3.6/cvxpy/reductions/dcp2cone/atom_canonicalizers/log1p_canon.py build/lib.macosx-10.7-x86_64-3.6/cvxpy/reductions/dcp2cone/atom_canonicalizers/log_det_canon.py build/lib.macosx-10.7-x86_64-3.6/cvxpy/reductions/dcp2cone/atom_canonicalizers/geo_mean_canon.py build/lib.macosx-10.7-x86_64-3.6/cvxpy/reductions/dcp2cone/atom_canonicalizers/exp_canon.py build/lib.macosx-10.7-x86_64-3.6/cvxpy/reductions/dcp2cone/atom_canonicalizers/quad_over_lin_canon.py build/lib.macosx-10.7-x86_64-3.6/cvxpy/reductions/dcp2cone/atom_canonicalizers/power_canon.py build/lib.macosx-10.7-x86_64-3.6/cvxpy/reductions/dcp2cone/atom_canonicalizers/log_sum_exp_canon.py build/lib.macosx-10.7-x86_64-3.6/cvxpy/reductions/dcp2cone/atom_canonicalizers/__init__.py build/lib.macosx-10.7-x86_64-3.6/cvxpy/reductions/dcp2cone/atom_canonicalizers/normNuc_canon.py build/lib.macosx-10.7-x86_64-3.6/cvxpy/reductions/dcp2cone/atom_canonicalizers/logistic_canon.py build/lib.macosx-10.7-x86_64-3.6/cvxpy/reductions/dcp2cone/atom_canonicalizers/matrix_frac_canon.py build/lib.macosx-10.7-x86_64-3.6/cvxpy/reductions/dcp2cone/atom_canonicalizers/sigma_max_canon.py build/lib.macosx-10.7-x86_64-3.6/cvxpy/reductions/dcp2cone/atom_canonicalizers/cumsum_canon.py build/lib.macosx-10.7-x86_64-3.6/cvxpy/reductions/dcp2cone/atom_canonicalizers/pnorm_canon.py build/lib.macosx-10.7-x86_64-3.6/cvxpy/reductions/dcp2cone/atom_canonicalizers/lambda_sum_largest_canon.py build/lib.macosx-10.7-x86_64-3.6/cvxpy/reductions/dcp2cone/atom_canonicalizers/lambda_max_canon.py build/lib.macosx-10.7-x86_64-3.6/cvxpy/reductions/dcp2cone/atom_canonicalizers/huber_canon.py build/lib.macosx-10.7-x86_64-3.6/cvxpy/reductions/dcp2cone/atom_canonicalizers/entr_canon.py build/lib.macosx-10.7-x86_64-3.6/cvxpy/reductions/dcp2cone/atom_canonicalizers/log_canon.py build/lib.macosx-10.7-x86_64-3.6/cvxpy/reductions/dcp2cone/atom_canonicalizers/indicator_canon.py build/lib.macosx-10.7-x86_64-3.6/cvxpy/reductions/dcp2cone/atom_canonicalizers/kl_div_canon.py build/lib.macosx-10.7-x86_64-3.6/cvxpy/reductions/eliminate_pwl/eliminate_pwl.py build/lib.macosx-10.7-x86_64-3.6/cvxpy/reductions/eliminate_pwl/__init__.py build/lib.macosx-10.7-x86_64-3.6/cvxpy/reductions/eliminate_pwl/atom_canonicalizers/norm1_canon.py build/lib.macosx-10.7-x86_64-3.6/cvxpy/reductions/eliminate_pwl/atom_canonicalizers/__init__.py build/lib.macosx-10.7-x86_64-3.6/cvxpy/reductions/eliminate_pwl/atom_canonicalizers/max_canon.py build/lib.macosx-10.7-x86_64-3.6/cvxpy/reductions/eliminate_pwl/atom_canonicalizers/maximum_canon.py build/lib.macosx-10.7-x86_64-3.6/cvxpy/reductions/eliminate_pwl/atom_canonicalizers/sum_largest_canon.py build/lib.macosx-10.7-x86_64-3.6/cvxpy/reductions/eliminate_pwl/atom_canonicalizers/norm_inf_canon.py build/lib.macosx-10.7-x86_64-3.6/cvxpy/reductions/eliminate_pwl/atom_canonicalizers/abs_canon.py build/lib.macosx-10.7-x86_64-3.6/cvxpy/reductions/qp2quad_form/qp_matrix_stuffing.py build/lib.macosx-10.7-x86_64-3.6/cvxpy/reductions/qp2quad_form/__init__.py build/lib.macosx-10.7-x86_64-3.6/cvxpy/reductions/qp2quad_form/qp2symbolic_qp.py build/lib.macosx-10.7-x86_64-3.6/cvxpy/reductions/qp2quad_form/atom_canonicalizers/quad_form_canon.py build/lib.macosx-10.7-x86_64-3.6/cvxpy/reductions/qp2quad_form/atom_canonicalizers/quad_over_lin_canon.py build/lib.macosx-10.7-x86_64-3.6/cvxpy/reductions/qp2quad_form/atom_canonicalizers/power_canon.py build/lib.macosx-10.7-x86_64-3.6/cvxpy/reductions/qp2quad_form/atom_canonicalizers/__init__.py build/lib.macosx-10.7-x86_64-3.6/cvxpy/reductions/solvers/solving_chain.py build/lib.macosx-10.7-x86_64-3.6/cvxpy/reductions/solvers/solver.py build/lib.macosx-10.7-x86_64-3.6/cvxpy/reductions/solvers/__init__.py build/lib.macosx-10.7-x86_64-3.6/cvxpy/reductions/solvers/defines.py build/lib.macosx-10.7-x86_64-3.6/cvxpy/reductions/solvers/constant_solver.py build/lib.macosx-10.7-x86_64-3.6/cvxpy/reductions/solvers/utilities.py build/lib.macosx-10.7-x86_64-3.6/cvxpy/reductions/solvers/conic_solvers/ls_conif.py build/lib.macosx-10.7-x86_64-3.6/cvxpy/reductions/solvers/conic_solvers/conic_solver.py build/lib.macosx-10.7-x86_64-3.6/cvxpy/reductions/solvers/conic_solvers/ecos_bb_conif.py build/lib.macosx-10.7-x86_64-3.6/cvxpy/reductions/solvers/conic_solvers/cbc_conif.py build/lib.macosx-10.7-x86_64-3.6/cvxpy/reductions/solvers/conic_solvers/elemental_conif.py build/lib.macosx-10.7-x86_64-3.6/cvxpy/reductions/solvers/conic_solvers/ecos_conif.py build/lib.macosx-10.7-x86_64-3.6/cvxpy/reductions/solvers/conic_solvers/mosek_conif.py build/lib.macosx-10.7-x86_64-3.6/cvxpy/reductions/solvers/conic_solvers/scs_conif.py build/lib.macosx-10.7-x86_64-3.6/cvxpy/reductions/solvers/conic_solvers/__init__.py build/lib.macosx-10.7-x86_64-3.6/cvxpy/reductions/solvers/conic_solvers/xpress_conif.py build/lib.macosx-10.7-x86_64-3.6/cvxpy/reductions/solvers/conic_solvers/cvxopt_conif.py build/lib.macosx-10.7-x86_64-3.6/cvxpy/reductions/solvers/conic_solvers/glpk_mi_conif.py build/lib.macosx-10.7-x86_64-3.6/cvxpy/reductions/solvers/conic_solvers/glpk_conif.py build/lib.macosx-10.7-x86_64-3.6/cvxpy/reductions/solvers/conic_solvers/gurobi_conif.py build/lib.macosx-10.7-x86_64-3.6/cvxpy/reductions/solvers/conic_solvers/julia_opt_conif.py build/lib.macosx-10.7-x86_64-3.6/cvxpy/reductions/solvers/qp_solvers/osqp_qpif.py build/lib.macosx-10.7-x86_64-3.6/cvxpy/reductions/solvers/qp_solvers/qp_solver.py build/lib.macosx-10.7-x86_64-3.6/cvxpy/reductions/solvers/qp_solvers/cplex_qpif.py build/lib.macosx-10.7-x86_64-3.6/cvxpy/reductions/solvers/qp_solvers/__init__.py build/lib.macosx-10.7-x86_64-3.6/cvxpy/reductions/solvers/qp_solvers/gurobi_qpif.py build/lib.macosx-10.7-x86_64-3.6/cvxpy/reductions/solvers/lp_solvers/__init__.py build/lib.macosx-10.7-x86_64-3.6/cvxpy/reductions/solvers/lp_solvers/cbc_lpif.py build/lib.macosx-10.7-x86_64-3.6/cvxpy/tests/base_test.py build/lib.macosx-10.7-x86_64-3.6/cvxpy/tests/test_mip_vars.py build/lib.macosx-10.7-x86_64-3.6/cvxpy/tests/test_nonlinear_atoms.py build/lib.macosx-10.7-x86_64-3.6/cvxpy/tests/test_expressions.py build/lib.macosx-10.7-x86_64-3.6/cvxpy/tests/test_constant_atoms.py build/lib.macosx-10.7-x86_64-3.6/cvxpy/tests/test_semidefinite_vars.py build/lib.macosx-10.7-x86_64-3.6/cvxpy/tests/test_shape.py build/lib.macosx-10.7-x86_64-3.6/cvxpy/tests/test_lin_ops.py build/lib.macosx-10.7-x86_64-3.6/cvxpy/tests/test_atoms.py build/lib.macosx-10.7-x86_64-3.6/cvxpy/tests/test_solvers.py build/lib.macosx-10.7-x86_64-3.6/cvxpy/tests/test_scs.py build/lib.macosx-10.7-x86_64-3.6/cvxpy/tests/test_objectives.py build/lib.macosx-10.7-x86_64-3.6/cvxpy/tests/test_convolution.py build/lib.macosx-10.7-x86_64-3.6/cvxpy/tests/__init__.py build/lib.macosx-10.7-x86_64-3.6/cvxpy/tests/test_qp.py build/lib.macosx-10.7-x86_64-3.6/cvxpy/tests/test_mosek_conif.py build/lib.macosx-10.7-x86_64-3.6/cvxpy/tests/test_matrices.py build/lib.macosx-10.7-x86_64-3.6/cvxpy/tests/test_cbc.py build/lib.macosx-10.7-x86_64-3.6/cvxpy/tests/test_non_optimal.py build/lib.macosx-10.7-x86_64-3.6/cvxpy/tests/test_quad_form.py build/lib.macosx-10.7-x86_64-3.6/cvxpy/tests/test_constraints.py build/lib.macosx-10.7-x86_64-3.6/cvxpy/tests/test_monotonicity.py build/lib.macosx-10.7-x86_64-3.6/cvxpy/tests/test_quadratic.py build/lib.macosx-10.7-x86_64-3.6/cvxpy/tests/test_domain.py build/lib.macosx-10.7-x86_64-3.6/cvxpy/tests/test_problem.py build/lib.macosx-10.7-x86_64-3.6/cvxpy/tests/test_complex.py build/lib.macosx-10.7-x86_64-3.6/cvxpy/tests/test_linear_cone.py build/lib.macosx-10.7-x86_64-3.6/cvxpy/tests/test_interfaces.py build/lib.macosx-10.7-x86_64-3.6/cvxpy/tests/test_curvature.py build/lib.macosx-10.7-x86_64-3.6/cvxpy/tests/test_elemental.py build/lib.macosx-10.7-x86_64-3.6/cvxpy/tests/test_julia_opt.py build/lib.macosx-10.7-x86_64-3.6/cvxpy/tests/test_examples.py build/lib.macosx-10.7-x86_64-3.6/cvxpy/tests/test_sign.py build/lib.macosx-10.7-x86_64-3.6/cvxpy/tests/test_grad.py build/lib.macosx-10.7-x86_64-3.6/cvxpy/transforms/indicator.py build/lib.macosx-10.7-x86_64-3.6/cvxpy/transforms/__init__.py build/lib.macosx-10.7-x86_64-3.6/cvxpy/transforms/separable_problems.py build/lib.macosx-10.7-x86_64-3.6/cvxpy/transforms/partial_optimize.py build/lib.macosx-10.7-x86_64-3.6/cvxpy/transforms/linearize.py build/lib.macosx-10.7-x86_64-3.6/cvxpy/transforms/scalarize.py build/lib.macosx-10.7-x86_64-3.6/cvxpy/utilities/cvxpy_upgrade.py build/lib.macosx-10.7-x86_64-3.6/cvxpy/utilities/replace_quad_forms.py build/lib.macosx-10.7-x86_64-3.6/cvxpy/utilities/power_tools.py build/lib.macosx-10.7-x86_64-3.6/cvxpy/utilities/performance_utils.py build/lib.macosx-10.7-x86_64-3.6/cvxpy/utilities/__init__.py build/lib.macosx-10.7-x86_64-3.6/cvxpy/utilities/key_utils.py build/lib.macosx-10.7-x86_64-3.6/cvxpy/utilities/canonical.py build/lib.macosx-10.7-x86_64-3.6/cvxpy/utilities/shape.py build/lib.macosx-10.7-x86_64-3.6/cvxpy/utilities/sign.py build/lib.macosx-10.7-x86_64-3.6/cvxpy/utilities/grad.py build/lib.macosx-10.7-x86_64-3.6/cvxpy/utilities/coeff_extractor.py\n",
      "  Skipping optional fixer: buffer\n",
      "  Skipping optional fixer: idioms\n",
      "  Skipping optional fixer: set_literal\n",
      "  Skipping optional fixer: ws_comma\n",
      "  Fixing build/lib.macosx-10.7-x86_64-3.6/cvxpy/error.py build/lib.macosx-10.7-x86_64-3.6/cvxpy/__init__.py build/lib.macosx-10.7-x86_64-3.6/cvxpy/settings.py build/lib.macosx-10.7-x86_64-3.6/cvxpy/atoms/max.py build/lib.macosx-10.7-x86_64-3.6/cvxpy/atoms/cummax.py build/lib.macosx-10.7-x86_64-3.6/cvxpy/atoms/matrix_frac.py build/lib.macosx-10.7-x86_64-3.6/cvxpy/atoms/lambda_max.py build/lib.macosx-10.7-x86_64-3.6/cvxpy/atoms/sigma_max.py build/lib.macosx-10.7-x86_64-3.6/cvxpy/atoms/total_variation.py build/lib.macosx-10.7-x86_64-3.6/cvxpy/atoms/sum_smallest.py build/lib.macosx-10.7-x86_64-3.6/cvxpy/atoms/norm1.py build/lib.macosx-10.7-x86_64-3.6/cvxpy/atoms/lambda_sum_smallest.py build/lib.macosx-10.7-x86_64-3.6/cvxpy/atoms/norm.py build/lib.macosx-10.7-x86_64-3.6/cvxpy/atoms/pnorm.py build/lib.macosx-10.7-x86_64-3.6/cvxpy/atoms/__init__.py build/lib.macosx-10.7-x86_64-3.6/cvxpy/atoms/sum_largest.py build/lib.macosx-10.7-x86_64-3.6/cvxpy/atoms/lambda_sum_largest.py build/lib.macosx-10.7-x86_64-3.6/cvxpy/atoms/sum_squares.py build/lib.macosx-10.7-x86_64-3.6/cvxpy/atoms/log_sum_exp.py build/lib.macosx-10.7-x86_64-3.6/cvxpy/atoms/norm_nuc.py build/lib.macosx-10.7-x86_64-3.6/cvxpy/atoms/mixed_norm.py build/lib.macosx-10.7-x86_64-3.6/cvxpy/atoms/min.py build/lib.macosx-10.7-x86_64-3.6/cvxpy/atoms/quad_over_lin.py build/lib.macosx-10.7-x86_64-3.6/cvxpy/atoms/geo_mean.py build/lib.macosx-10.7-x86_64-3.6/cvxpy/atoms/axis_atom.py build/lib.macosx-10.7-x86_64-3.6/cvxpy/atoms/lambda_min.py build/lib.macosx-10.7-x86_64-3.6/cvxpy/atoms/norm_inf.py build/lib.macosx-10.7-x86_64-3.6/cvxpy/atoms/quad_form.py build/lib.macosx-10.7-x86_64-3.6/cvxpy/atoms/log_det.py build/lib.macosx-10.7-x86_64-3.6/cvxpy/atoms/harmonic_mean.py build/lib.macosx-10.7-x86_64-3.6/cvxpy/atoms/atom.py build/lib.macosx-10.7-x86_64-3.6/cvxpy/atoms/affine/vec.py build/lib.macosx-10.7-x86_64-3.6/cvxpy/atoms/affine/trace.py build/lib.macosx-10.7-x86_64-3.6/cvxpy/atoms/affine/unary_operators.py build/lib.macosx-10.7-x86_64-3.6/cvxpy/atoms/affine/vstack.py build/lib.macosx-10.7-x86_64-3.6/cvxpy/atoms/affine/affine_atom.py build/lib.macosx-10.7-x86_64-3.6/cvxpy/atoms/affine/index.py build/lib.macosx-10.7-x86_64-3.6/cvxpy/atoms/affine/upper_tri.py build/lib.macosx-10.7-x86_64-3.6/cvxpy/atoms/affine/binary_operators.py build/lib.macosx-10.7-x86_64-3.6/cvxpy/atoms/affine/hstack.py build/lib.macosx-10.7-x86_64-3.6/cvxpy/atoms/affine/reshape.py build/lib.macosx-10.7-x86_64-3.6/cvxpy/atoms/affine/bmat.py build/lib.macosx-10.7-x86_64-3.6/cvxpy/atoms/affine/__init__.py build/lib.macosx-10.7-x86_64-3.6/cvxpy/atoms/affine/promote.py build/lib.macosx-10.7-x86_64-3.6/cvxpy/atoms/affine/real.py build/lib.macosx-10.7-x86_64-3.6/cvxpy/atoms/affine/kron.py build/lib.macosx-10.7-x86_64-3.6/cvxpy/atoms/affine/imag.py build/lib.macosx-10.7-x86_64-3.6/cvxpy/atoms/affine/transpose.py build/lib.macosx-10.7-x86_64-3.6/cvxpy/atoms/affine/diag.py build/lib.macosx-10.7-x86_64-3.6/cvxpy/atoms/affine/add_expr.py build/lib.macosx-10.7-x86_64-3.6/cvxpy/atoms/affine/diff.py build/lib.macosx-10.7-x86_64-3.6/cvxpy/atoms/affine/sum.py build/lib.macosx-10.7-x86_64-3.6/cvxpy/atoms/affine/conv.py build/lib.macosx-10.7-x86_64-3.6/cvxpy/atoms/affine/cumsum.py build/lib.macosx-10.7-x86_64-3.6/cvxpy/atoms/affine/conj.py build/lib.macosx-10.7-x86_64-3.6/cvxpy/atoms/elementwise/kl_div.py build/lib.macosx-10.7-x86_64-3.6/cvxpy/atoms/elementwise/pos.py build/lib.macosx-10.7-x86_64-3.6/cvxpy/atoms/elementwise/neg.py build/lib.macosx-10.7-x86_64-3.6/cvxpy/atoms/elementwise/sqrt.py build/lib.macosx-10.7-x86_64-3.6/cvxpy/atoms/elementwise/entr.py build/lib.macosx-10.7-x86_64-3.6/cvxpy/atoms/elementwise/log.py build/lib.macosx-10.7-x86_64-3.6/cvxpy/atoms/elementwise/logistic.py build/lib.macosx-10.7-x86_64-3.6/cvxpy/atoms/elementwise/elementwise.py build/lib.macosx-10.7-x86_64-3.6/cvxpy/atoms/elementwise/abs.py build/lib.macosx-10.7-x86_64-3.6/cvxpy/atoms/elementwise/__init__.py build/lib.macosx-10.7-x86_64-3.6/cvxpy/atoms/elementwise/maximum.py build/lib.macosx-10.7-x86_64-3.6/cvxpy/atoms/elementwise/minimum.py build/lib.macosx-10.7-x86_64-3.6/cvxpy/atoms/elementwise/huber.py build/lib.macosx-10.7-x86_64-3.6/cvxpy/atoms/elementwise/scalene.py build/lib.macosx-10.7-x86_64-3.6/cvxpy/atoms/elementwise/square.py build/lib.macosx-10.7-x86_64-3.6/cvxpy/atoms/elementwise/inv_pos.py build/lib.macosx-10.7-x86_64-3.6/cvxpy/atoms/elementwise/exp.py build/lib.macosx-10.7-x86_64-3.6/cvxpy/atoms/elementwise/log1p.py build/lib.macosx-10.7-x86_64-3.6/cvxpy/atoms/elementwise/power.py build/lib.macosx-10.7-x86_64-3.6/cvxpy/cvxcore/__init__.py build/lib.macosx-10.7-x86_64-3.6/cvxpy/cvxcore/python/canonInterface.py build/lib.macosx-10.7-x86_64-3.6/cvxpy/cvxcore/python/__init__.py build/lib.macosx-10.7-x86_64-3.6/cvxpy/cvxcore/python/cvxcore.py build/lib.macosx-10.7-x86_64-3.6/cvxpy/constraints/constraint.py build/lib.macosx-10.7-x86_64-3.6/cvxpy/constraints/nonlinear.py build/lib.macosx-10.7-x86_64-3.6/cvxpy/constraints/__init__.py build/lib.macosx-10.7-x86_64-3.6/cvxpy/constraints/second_order.py build/lib.macosx-10.7-x86_64-3.6/cvxpy/constraints/exponential.py build/lib.macosx-10.7-x86_64-3.6/cvxpy/constraints/zero.py build/lib.macosx-10.7-x86_64-3.6/cvxpy/constraints/nonpos.py build/lib.macosx-10.7-x86_64-3.6/cvxpy/constraints/soc_axis.py build/lib.macosx-10.7-x86_64-3.6/cvxpy/constraints/psd.py build/lib.macosx-10.7-x86_64-3.6/cvxpy/constraints/utilities.py build/lib.macosx-10.7-x86_64-3.6/cvxpy/expressions/cvxtypes.py build/lib.macosx-10.7-x86_64-3.6/cvxpy/expressions/leaf.py build/lib.macosx-10.7-x86_64-3.6/cvxpy/expressions/__init__.py build/lib.macosx-10.7-x86_64-3.6/cvxpy/expressions/variable.py build/lib.macosx-10.7-x86_64-3.6/cvxpy/expressions/expression.py build/lib.macosx-10.7-x86_64-3.6/cvxpy/expressions/constants/__init__.py build/lib.macosx-10.7-x86_64-3.6/cvxpy/expressions/constants/callback_param.py build/lib.macosx-10.7-x86_64-3.6/cvxpy/expressions/constants/constant.py build/lib.macosx-10.7-x86_64-3.6/cvxpy/expressions/constants/parameter.py build/lib.macosx-10.7-x86_64-3.6/cvxpy/interface/base_matrix_interface.py build/lib.macosx-10.7-x86_64-3.6/cvxpy/interface/__init__.py build/lib.macosx-10.7-x86_64-3.6/cvxpy/interface/scipy_wrapper.py build/lib.macosx-10.7-x86_64-3.6/cvxpy/interface/matrix_utilities.py build/lib.macosx-10.7-x86_64-3.6/cvxpy/interface/numpy_interface/matrix_interface.py build/lib.macosx-10.7-x86_64-3.6/cvxpy/interface/numpy_interface/sparse_matrix_interface.py build/lib.macosx-10.7-x86_64-3.6/cvxpy/interface/numpy_interface/__init__.py build/lib.macosx-10.7-x86_64-3.6/cvxpy/interface/numpy_interface/ndarray_interface.py build/lib.macosx-10.7-x86_64-3.6/cvxpy/lin_ops/__init__.py build/lib.macosx-10.7-x86_64-3.6/cvxpy/lin_ops/lin_op.py build/lib.macosx-10.7-x86_64-3.6/cvxpy/lin_ops/lin_constraints.py build/lib.macosx-10.7-x86_64-3.6/cvxpy/lin_ops/lin_utils.py build/lib.macosx-10.7-x86_64-3.6/cvxpy/lin_ops/tree_mat.py build/lib.macosx-10.7-x86_64-3.6/cvxpy/problems/kktsolver.py build/lib.macosx-10.7-x86_64-3.6/cvxpy/problems/objective.py build/lib.macosx-10.7-x86_64-3.6/cvxpy/problems/xpress_problem.py build/lib.macosx-10.7-x86_64-3.6/cvxpy/problems/__init__.py build/lib.macosx-10.7-x86_64-3.6/cvxpy/problems/problem.py build/lib.macosx-10.7-x86_64-3.6/cvxpy/problems/iterative.py build/lib.macosx-10.7-x86_64-3.6/cvxpy/problems/problem_data/problem_data.py build/lib.macosx-10.7-x86_64-3.6/cvxpy/problems/problem_data/sym_data.py build/lib.macosx-10.7-x86_64-3.6/cvxpy/problems/problem_data/__init__.py build/lib.macosx-10.7-x86_64-3.6/cvxpy/problems/problem_data/compr_matrix.py build/lib.macosx-10.7-x86_64-3.6/cvxpy/problems/problem_data/matrix_data.py build/lib.macosx-10.7-x86_64-3.6/cvxpy/problems/solvers/ecos_intf.py build/lib.macosx-10.7-x86_64-3.6/cvxpy/problems/solvers/glpk_mi_intf.py build/lib.macosx-10.7-x86_64-3.6/cvxpy/problems/solvers/glpk_intf.py build/lib.macosx-10.7-x86_64-3.6/cvxpy/problems/solvers/solver.py build/lib.macosx-10.7-x86_64-3.6/cvxpy/problems/solvers/gurobi_intf.py build/lib.macosx-10.7-x86_64-3.6/cvxpy/problems/solvers/xpress_intf.py build/lib.macosx-10.7-x86_64-3.6/cvxpy/problems/solvers/cbc_intf.py build/lib.macosx-10.7-x86_64-3.6/cvxpy/problems/solvers/__init__.py build/lib.macosx-10.7-x86_64-3.6/cvxpy/problems/solvers/cvxopt_intf.py build/lib.macosx-10.7-x86_64-3.6/cvxpy/reductions/cvx_attr2constr.py build/lib.macosx-10.7-x86_64-3.6/cvxpy/reductions/canonicalization.py build/lib.macosx-10.7-x86_64-3.6/cvxpy/reductions/reduction.py build/lib.macosx-10.7-x86_64-3.6/cvxpy/reductions/chain.py build/lib.macosx-10.7-x86_64-3.6/cvxpy/reductions/solution.py build/lib.macosx-10.7-x86_64-3.6/cvxpy/reductions/__init__.py build/lib.macosx-10.7-x86_64-3.6/cvxpy/reductions/inverse_data.py build/lib.macosx-10.7-x86_64-3.6/cvxpy/reductions/eval_params.py build/lib.macosx-10.7-x86_64-3.6/cvxpy/reductions/matrix_stuffing.py build/lib.macosx-10.7-x86_64-3.6/cvxpy/reductions/utilities.py build/lib.macosx-10.7-x86_64-3.6/cvxpy/reductions/flip_objective.py build/lib.macosx-10.7-x86_64-3.6/cvxpy/reductions/complex2real/complex2real.py build/lib.macosx-10.7-x86_64-3.6/cvxpy/reductions/complex2real/__init__.py build/lib.macosx-10.7-x86_64-3.6/cvxpy/reductions/complex2real/atom_canonicalizers/constant_canon.py build/lib.macosx-10.7-x86_64-3.6/cvxpy/reductions/complex2real/atom_canonicalizers/variable_canon.py build/lib.macosx-10.7-x86_64-3.6/cvxpy/reductions/complex2real/atom_canonicalizers/__init__.py build/lib.macosx-10.7-x86_64-3.6/cvxpy/reductions/complex2real/atom_canonicalizers/aff_canon.py build/lib.macosx-10.7-x86_64-3.6/cvxpy/reductions/complex2real/atom_canonicalizers/pnorm_canon.py build/lib.macosx-10.7-x86_64-3.6/cvxpy/reductions/complex2real/atom_canonicalizers/matrix_canon.py build/lib.macosx-10.7-x86_64-3.6/cvxpy/reductions/complex2real/atom_canonicalizers/zero_canon.py build/lib.macosx-10.7-x86_64-3.6/cvxpy/reductions/complex2real/atom_canonicalizers/abs_canon.py build/lib.macosx-10.7-x86_64-3.6/cvxpy/reductions/dcp2cone/__init__.py build/lib.macosx-10.7-x86_64-3.6/cvxpy/reductions/dcp2cone/cone_matrix_stuffing.py build/lib.macosx-10.7-x86_64-3.6/cvxpy/reductions/dcp2cone/dcp2cone.py build/lib.macosx-10.7-x86_64-3.6/cvxpy/reductions/dcp2cone/atom_canonicalizers/quad_form_canon.py build/lib.macosx-10.7-x86_64-3.6/cvxpy/reductions/dcp2cone/atom_canonicalizers/log1p_canon.py build/lib.macosx-10.7-x86_64-3.6/cvxpy/reductions/dcp2cone/atom_canonicalizers/log_det_canon.py build/lib.macosx-10.7-x86_64-3.6/cvxpy/reductions/dcp2cone/atom_canonicalizers/geo_mean_canon.py build/lib.macosx-10.7-x86_64-3.6/cvxpy/reductions/dcp2cone/atom_canonicalizers/exp_canon.py build/lib.macosx-10.7-x86_64-3.6/cvxpy/reductions/dcp2cone/atom_canonicalizers/quad_over_lin_canon.py build/lib.macosx-10.7-x86_64-3.6/cvxpy/reductions/dcp2cone/atom_canonicalizers/power_canon.py build/lib.macosx-10.7-x86_64-3.6/cvxpy/reductions/dcp2cone/atom_canonicalizers/log_sum_exp_canon.py build/lib.macosx-10.7-x86_64-3.6/cvxpy/reductions/dcp2cone/atom_canonicalizers/__init__.py build/lib.macosx-10.7-x86_64-3.6/cvxpy/reductions/dcp2cone/atom_canonicalizers/normNuc_canon.py build/lib.macosx-10.7-x86_64-3.6/cvxpy/reductions/dcp2cone/atom_canonicalizers/logistic_canon.py build/lib.macosx-10.7-x86_64-3.6/cvxpy/reductions/dcp2cone/atom_canonicalizers/matrix_frac_canon.py build/lib.macosx-10.7-x86_64-3.6/cvxpy/reductions/dcp2cone/atom_canonicalizers/sigma_max_canon.py build/lib.macosx-10.7-x86_64-3.6/cvxpy/reductions/dcp2cone/atom_canonicalizers/cumsum_canon.py build/lib.macosx-10.7-x86_64-3.6/cvxpy/reductions/dcp2cone/atom_canonicalizers/pnorm_canon.py build/lib.macosx-10.7-x86_64-3.6/cvxpy/reductions/dcp2cone/atom_canonicalizers/lambda_sum_largest_canon.py build/lib.macosx-10.7-x86_64-3.6/cvxpy/reductions/dcp2cone/atom_canonicalizers/lambda_max_canon.py build/lib.macosx-10.7-x86_64-3.6/cvxpy/reductions/dcp2cone/atom_canonicalizers/huber_canon.py build/lib.macosx-10.7-x86_64-3.6/cvxpy/reductions/dcp2cone/atom_canonicalizers/entr_canon.py build/lib.macosx-10.7-x86_64-3.6/cvxpy/reductions/dcp2cone/atom_canonicalizers/log_canon.py build/lib.macosx-10.7-x86_64-3.6/cvxpy/reductions/dcp2cone/atom_canonicalizers/indicator_canon.py build/lib.macosx-10.7-x86_64-3.6/cvxpy/reductions/dcp2cone/atom_canonicalizers/kl_div_canon.py build/lib.macosx-10.7-x86_64-3.6/cvxpy/reductions/eliminate_pwl/eliminate_pwl.py build/lib.macosx-10.7-x86_64-3.6/cvxpy/reductions/eliminate_pwl/__init__.py build/lib.macosx-10.7-x86_64-3.6/cvxpy/reductions/eliminate_pwl/atom_canonicalizers/norm1_canon.py build/lib.macosx-10.7-x86_64-3.6/cvxpy/reductions/eliminate_pwl/atom_canonicalizers/__init__.py build/lib.macosx-10.7-x86_64-3.6/cvxpy/reductions/eliminate_pwl/atom_canonicalizers/max_canon.py build/lib.macosx-10.7-x86_64-3.6/cvxpy/reductions/eliminate_pwl/atom_canonicalizers/maximum_canon.py build/lib.macosx-10.7-x86_64-3.6/cvxpy/reductions/eliminate_pwl/atom_canonicalizers/sum_largest_canon.py build/lib.macosx-10.7-x86_64-3.6/cvxpy/reductions/eliminate_pwl/atom_canonicalizers/norm_inf_canon.py build/lib.macosx-10.7-x86_64-3.6/cvxpy/reductions/eliminate_pwl/atom_canonicalizers/abs_canon.py build/lib.macosx-10.7-x86_64-3.6/cvxpy/reductions/qp2quad_form/qp_matrix_stuffing.py build/lib.macosx-10.7-x86_64-3.6/cvxpy/reductions/qp2quad_form/__init__.py build/lib.macosx-10.7-x86_64-3.6/cvxpy/reductions/qp2quad_form/qp2symbolic_qp.py build/lib.macosx-10.7-x86_64-3.6/cvxpy/reductions/qp2quad_form/atom_canonicalizers/quad_form_canon.py build/lib.macosx-10.7-x86_64-3.6/cvxpy/reductions/qp2quad_form/atom_canonicalizers/quad_over_lin_canon.py build/lib.macosx-10.7-x86_64-3.6/cvxpy/reductions/qp2quad_form/atom_canonicalizers/power_canon.py build/lib.macosx-10.7-x86_64-3.6/cvxpy/reductions/qp2quad_form/atom_canonicalizers/__init__.py build/lib.macosx-10.7-x86_64-3.6/cvxpy/reductions/solvers/solving_chain.py build/lib.macosx-10.7-x86_64-3.6/cvxpy/reductions/solvers/solver.py build/lib.macosx-10.7-x86_64-3.6/cvxpy/reductions/solvers/__init__.py build/lib.macosx-10.7-x86_64-3.6/cvxpy/reductions/solvers/defines.py build/lib.macosx-10.7-x86_64-3.6/cvxpy/reductions/solvers/constant_solver.py build/lib.macosx-10.7-x86_64-3.6/cvxpy/reductions/solvers/utilities.py build/lib.macosx-10.7-x86_64-3.6/cvxpy/reductions/solvers/conic_solvers/ls_conif.py build/lib.macosx-10.7-x86_64-3.6/cvxpy/reductions/solvers/conic_solvers/conic_solver.py build/lib.macosx-10.7-x86_64-3.6/cvxpy/reductions/solvers/conic_solvers/ecos_bb_conif.py build/lib.macosx-10.7-x86_64-3.6/cvxpy/reductions/solvers/conic_solvers/cbc_conif.py build/lib.macosx-10.7-x86_64-3.6/cvxpy/reductions/solvers/conic_solvers/elemental_conif.py build/lib.macosx-10.7-x86_64-3.6/cvxpy/reductions/solvers/conic_solvers/ecos_conif.py build/lib.macosx-10.7-x86_64-3.6/cvxpy/reductions/solvers/conic_solvers/mosek_conif.py build/lib.macosx-10.7-x86_64-3.6/cvxpy/reductions/solvers/conic_solvers/scs_conif.py build/lib.macosx-10.7-x86_64-3.6/cvxpy/reductions/solvers/conic_solvers/__init__.py build/lib.macosx-10.7-x86_64-3.6/cvxpy/reductions/solvers/conic_solvers/xpress_conif.py build/lib.macosx-10.7-x86_64-3.6/cvxpy/reductions/solvers/conic_solvers/cvxopt_conif.py build/lib.macosx-10.7-x86_64-3.6/cvxpy/reductions/solvers/conic_solvers/glpk_mi_conif.py build/lib.macosx-10.7-x86_64-3.6/cvxpy/reductions/solvers/conic_solvers/glpk_conif.py build/lib.macosx-10.7-x86_64-3.6/cvxpy/reductions/solvers/conic_solvers/gurobi_conif.py build/lib.macosx-10.7-x86_64-3.6/cvxpy/reductions/solvers/conic_solvers/julia_opt_conif.py build/lib.macosx-10.7-x86_64-3.6/cvxpy/reductions/solvers/qp_solvers/osqp_qpif.py build/lib.macosx-10.7-x86_64-3.6/cvxpy/reductions/solvers/qp_solvers/qp_solver.py build/lib.macosx-10.7-x86_64-3.6/cvxpy/reductions/solvers/qp_solvers/cplex_qpif.py build/lib.macosx-10.7-x86_64-3.6/cvxpy/reductions/solvers/qp_solvers/__init__.py build/lib.macosx-10.7-x86_64-3.6/cvxpy/reductions/solvers/qp_solvers/gurobi_qpif.py build/lib.macosx-10.7-x86_64-3.6/cvxpy/reductions/solvers/lp_solvers/__init__.py build/lib.macosx-10.7-x86_64-3.6/cvxpy/reductions/solvers/lp_solvers/cbc_lpif.py build/lib.macosx-10.7-x86_64-3.6/cvxpy/tests/base_test.py build/lib.macosx-10.7-x86_64-3.6/cvxpy/tests/test_mip_vars.py build/lib.macosx-10.7-x86_64-3.6/cvxpy/tests/test_nonlinear_atoms.py build/lib.macosx-10.7-x86_64-3.6/cvxpy/tests/test_expressions.py build/lib.macosx-10.7-x86_64-3.6/cvxpy/tests/test_constant_atoms.py build/lib.macosx-10.7-x86_64-3.6/cvxpy/tests/test_semidefinite_vars.py build/lib.macosx-10.7-x86_64-3.6/cvxpy/tests/test_shape.py build/lib.macosx-10.7-x86_64-3.6/cvxpy/tests/test_lin_ops.py build/lib.macosx-10.7-x86_64-3.6/cvxpy/tests/test_atoms.py build/lib.macosx-10.7-x86_64-3.6/cvxpy/tests/test_solvers.py build/lib.macosx-10.7-x86_64-3.6/cvxpy/tests/test_scs.py build/lib.macosx-10.7-x86_64-3.6/cvxpy/tests/test_objectives.py build/lib.macosx-10.7-x86_64-3.6/cvxpy/tests/test_convolution.py build/lib.macosx-10.7-x86_64-3.6/cvxpy/tests/__init__.py build/lib.macosx-10.7-x86_64-3.6/cvxpy/tests/test_qp.py build/lib.macosx-10.7-x86_64-3.6/cvxpy/tests/test_mosek_conif.py build/lib.macosx-10.7-x86_64-3.6/cvxpy/tests/test_matrices.py build/lib.macosx-10.7-x86_64-3.6/cvxpy/tests/test_cbc.py build/lib.macosx-10.7-x86_64-3.6/cvxpy/tests/test_non_optimal.py build/lib.macosx-10.7-x86_64-3.6/cvxpy/tests/test_quad_form.py build/lib.macosx-10.7-x86_64-3.6/cvxpy/tests/test_constraints.py build/lib.macosx-10.7-x86_64-3.6/cvxpy/tests/test_monotonicity.py build/lib.macosx-10.7-x86_64-3.6/cvxpy/tests/test_quadratic.py build/lib.macosx-10.7-x86_64-3.6/cvxpy/tests/test_domain.py build/lib.macosx-10.7-x86_64-3.6/cvxpy/tests/test_problem.py build/lib.macosx-10.7-x86_64-3.6/cvxpy/tests/test_complex.py build/lib.macosx-10.7-x86_64-3.6/cvxpy/tests/test_linear_cone.py build/lib.macosx-10.7-x86_64-3.6/cvxpy/tests/test_interfaces.py build/lib.macosx-10.7-x86_64-3.6/cvxpy/tests/test_curvature.py build/lib.macosx-10.7-x86_64-3.6/cvxpy/tests/test_elemental.py build/lib.macosx-10.7-x86_64-3.6/cvxpy/tests/test_julia_opt.py build/lib.macosx-10.7-x86_64-3.6/cvxpy/tests/test_examples.py build/lib.macosx-10.7-x86_64-3.6/cvxpy/tests/test_sign.py build/lib.macosx-10.7-x86_64-3.6/cvxpy/tests/test_grad.py build/lib.macosx-10.7-x86_64-3.6/cvxpy/transforms/indicator.py build/lib.macosx-10.7-x86_64-3.6/cvxpy/transforms/__init__.py build/lib.macosx-10.7-x86_64-3.6/cvxpy/transforms/separable_problems.py build/lib.macosx-10.7-x86_64-3.6/cvxpy/transforms/partial_optimize.py build/lib.macosx-10.7-x86_64-3.6/cvxpy/transforms/linearize.py build/lib.macosx-10.7-x86_64-3.6/cvxpy/transforms/scalarize.py build/lib.macosx-10.7-x86_64-3.6/cvxpy/utilities/cvxpy_upgrade.py build/lib.macosx-10.7-x86_64-3.6/cvxpy/utilities/replace_quad_forms.py build/lib.macosx-10.7-x86_64-3.6/cvxpy/utilities/power_tools.py build/lib.macosx-10.7-x86_64-3.6/cvxpy/utilities/performance_utils.py build/lib.macosx-10.7-x86_64-3.6/cvxpy/utilities/__init__.py build/lib.macosx-10.7-x86_64-3.6/cvxpy/utilities/key_utils.py build/lib.macosx-10.7-x86_64-3.6/cvxpy/utilities/canonical.py build/lib.macosx-10.7-x86_64-3.6/cvxpy/utilities/shape.py build/lib.macosx-10.7-x86_64-3.6/cvxpy/utilities/sign.py build/lib.macosx-10.7-x86_64-3.6/cvxpy/utilities/grad.py build/lib.macosx-10.7-x86_64-3.6/cvxpy/utilities/coeff_extractor.py\n",
      "  Skipping optional fixer: buffer\n",
      "  Skipping optional fixer: idioms\n",
      "  Skipping optional fixer: set_literal\n",
      "  Skipping optional fixer: ws_comma\n",
      "  running build_ext\n",
      "  building '_cvxcore' extension\n",
      "  creating build/temp.macosx-10.7-x86_64-3.6\n",
      "  creating build/temp.macosx-10.7-x86_64-3.6/cvxpy\n",
      "  creating build/temp.macosx-10.7-x86_64-3.6/cvxpy/cvxcore\n",
      "  creating build/temp.macosx-10.7-x86_64-3.6/cvxpy/cvxcore/src\n",
      "  creating build/temp.macosx-10.7-x86_64-3.6/cvxpy/cvxcore/python\n",
      "  gcc -Wno-unused-result -Wsign-compare -Wunreachable-code -DNDEBUG -g -fwrapv -O3 -Wall -Wstrict-prototypes -I/Users/Aaron/miniconda3/envs/mlenv/include -arch x86_64 -I/Users/Aaron/miniconda3/envs/mlenv/include -arch x86_64 -Icvxpy/cvxcore/src/ -Icvxpy/cvxcore/python/ -Icvxpy/cvxcore/include/Eigen -I/Users/Aaron/miniconda3/envs/mlenv/lib/python3.6/site-packages/numpy/core/include -I/Users/Aaron/miniconda3/envs/mlenv/include/python3.6m -c cvxpy/cvxcore/src/cvxcore.cpp -o build/temp.macosx-10.7-x86_64-3.6/cvxpy/cvxcore/src/cvxcore.o\n",
      "  warning: include path for stdlibc++ headers not found; pass '-std=libc++' on the command line to use the libc++ standard library instead [-Wstdlibcxx-not-found]\n",
      "  In file included from cvxpy/cvxcore/src/cvxcore.cpp:15:\n",
      "  cvxpy/cvxcore/src/cvxcore.hpp:18:10: fatal error: 'vector' file not found\n",
      "  #include <vector>\n",
      "           ^~~~~~~~\n",
      "  1 warning and 1 error generated.\n",
      "  error: command 'gcc' failed with exit status 1\n",
      "  \n",
      "  ----------------------------------------\n",
      "\u001b[31m  Failed building wheel for cvxpy\u001b[0m\n",
      "\u001b[?25h  Running setup.py clean for cvxpy\n"
     ]
    },
    {
     "name": "stdout",
     "output_type": "stream",
     "text": [
      "  Running setup.py bdist_wheel for pandas ... \u001b[?25l|"
     ]
    }
   ],
   "source": [
    "import sys\n",
    "!{sys.executable} -m pip install -r requirements.txt"
   ]
  },
  {
   "cell_type": "code",
   "execution_count": null,
   "metadata": {
    "scrolled": true
   },
   "outputs": [],
   "source": [
    "import pandas as pd\n",
    "import matplotlib.pyplot as plt\n",
    "import numpy as np\n",
    "import scipy.stats as stats\n",
    "import cvxpy as cvx\n",
    "import plotly as py\n",
    "import plotly.graph_objs as go\n",
    "import helper\n",
    "\n",
    "py.offline.init_notebook_mode(connected=True)\n",
    "%matplotlib inline\n",
    "plt.style.use('ggplot')"
   ]
  },
  {
   "cell_type": "markdown",
   "metadata": {},
   "source": [
    "## Optimization with an Alpha Model and a Risk Model\n",
    "In this exercise, we will construct an optimization problem using a stock universe consisting of 3 stocks. This problem will inherently be somewhat artificial, but using a stock universe of 3 stocks will allow us to create plots in 3 dimensions. These are useful for illustrating exactly what is going on in each step and will help develop your intuition for the problem. In this exercise, we will do the following steps:\n",
    "1. Create a 1-year-momentum-based alpha vector from some stock price data. \n",
    "2. Create a risk model using PCA.\n",
    "3. Construct the optimization problem using the alpha vector and risk model, and apply a set of standard constraints.\n",
    "4. Solve the optimization problem.\n"
   ]
  },
  {
   "cell_type": "markdown",
   "metadata": {},
   "source": [
    "## Load the data\n",
    "Load the data from the file `stock_prices_advanced_optimization.csv`."
   ]
  },
  {
   "cell_type": "code",
   "execution_count": null,
   "metadata": {
    "scrolled": true
   },
   "outputs": [],
   "source": [
    "prices = pd.read_csv('stock_prices_advanced_optimization.csv', parse_dates=['date'], index_col=0)"
   ]
  },
  {
   "cell_type": "markdown",
   "metadata": {},
   "source": [
    "The data are the price trends for 3 stocks, Stock A, Stock B and Stock C, for 4 years, from 2013 to 2017."
   ]
  },
  {
   "cell_type": "code",
   "execution_count": null,
   "metadata": {
    "scrolled": false
   },
   "outputs": [],
   "source": [
    "prices.head()"
   ]
  },
  {
   "cell_type": "code",
   "execution_count": null,
   "metadata": {
    "scrolled": false
   },
   "outputs": [],
   "source": [
    "prices.plot()"
   ]
  },
  {
   "cell_type": "markdown",
   "metadata": {},
   "source": [
    "Calculate the returns of these price data."
   ]
  },
  {
   "cell_type": "code",
   "execution_count": null,
   "metadata": {
    "scrolled": true
   },
   "outputs": [],
   "source": [
    "rets = prices.pct_change()[1:].fillna(0)"
   ]
  },
  {
   "cell_type": "markdown",
   "metadata": {},
   "source": [
    "## Create an alpha vector"
   ]
  },
  {
   "cell_type": "code",
   "execution_count": null,
   "metadata": {
    "scrolled": true
   },
   "outputs": [],
   "source": [
    "from scipy.stats import zscore"
   ]
  },
  {
   "cell_type": "markdown",
   "metadata": {},
   "source": [
    "We'll create an alpha vector based on 1-year momentum. "
   ]
  },
  {
   "cell_type": "code",
   "execution_count": null,
   "metadata": {
    "scrolled": true
   },
   "outputs": [],
   "source": [
    "# 1-yr momentum alpha\n",
    "\n",
    "def log_returns(series):\n",
    "    return np.log(series[-1])-np.log(series[0])\n",
    "    \n",
    "alpha = prices.rolling(window=252).apply(log_returns).rank(axis='columns').apply(zscore, axis='columns')"
   ]
  },
  {
   "cell_type": "markdown",
   "metadata": {},
   "source": [
    "Now we'll take the row of most recent alpha values to use as our alpha vector. There should be a value in the vector for each stock."
   ]
  },
  {
   "cell_type": "code",
   "execution_count": null,
   "metadata": {
    "scrolled": true
   },
   "outputs": [],
   "source": [
    "# Take most recent set of values\n",
    "alpha_vector = alpha.iloc[-1,:]\n",
    "print(alpha_vector)"
   ]
  },
  {
   "cell_type": "markdown",
   "metadata": {},
   "source": [
    "For this problem, we'll use the optimization objective $-\\boldsymbol{\\alpha}^T \\mathbf{x}$. Remember, we are trying to _minimize_ this function (to maximize alpha). Let's plot $-\\boldsymbol{\\alpha}^T \\mathbf{x}$ as a function of the components of $\\mathbf{x}$ so that we can get a better sense of the \"shape\" of the function."
   ]
  },
  {
   "cell_type": "code",
   "execution_count": null,
   "metadata": {
    "scrolled": true
   },
   "outputs": [],
   "source": [
    "n = 10\n",
    "x = y = z = np.linspace(-2,2,n)\n",
    "\n",
    "xv, yv, zv = np.meshgrid(x, y, z, indexing='ij')\n",
    "obj_val = np.full(xv.shape, np.nan)\n",
    "\n",
    "for i in range(n):\n",
    "    for j in range(n):\n",
    "        for k in range(n):\n",
    "            obj_val[i,j,k] = -alpha_vector[0]*xv[i,j,k]-alpha_vector[1]*yv[i,j,k]-alpha_vector[2]*zv[i,j,k]"
   ]
  },
  {
   "cell_type": "code",
   "execution_count": null,
   "metadata": {
    "scrolled": false
   },
   "outputs": [],
   "source": [
    "hover_text = helper.generate_hover_text(xv, yv, zv, 'Weight on Stock A', 'Weight on Stock B', 'Weight on Stock C', fcn_values=obj_val, fcn_label='Objective Function')\n",
    "\n",
    "trace1 = go.Scatter3d(\n",
    "    x=xv.flatten(),\n",
    "    y=yv.flatten(),\n",
    "    z=zv.flatten(),\n",
    "    text = hover_text.flatten(),\n",
    "    mode='markers',\n",
    "    marker=dict(\n",
    "        size=4,\n",
    "        color=obj_val.flatten(),     # set color to an array/list of desired values\n",
    "        colorscale='Viridis',   # choose a colorscale\n",
    "        colorbar=dict(\n",
    "                title='Objective Function'\n",
    "            ),\n",
    "        opacity=0.4,\n",
    "        showscale=True\n",
    "    ),\n",
    "    hoverinfo = 'text'\n",
    ")\n",
    "\n",
    "data = [trace1]\n",
    "layout = helper.create_standard_layout('Alpha Vector Optimization Objective Function', 'Weight on')\n",
    "fig = go.Figure(data=data, layout=layout)\n",
    "py.offline.iplot(fig)"
   ]
  },
  {
   "cell_type": "markdown",
   "metadata": {},
   "source": [
    "In this plot, the value of the objective function is represented by the color at each point in weight space. Notice that the function increases with weight on Stock C, decreases with weight on Stock B, and doesn't depend on the weight on Stock A."
   ]
  },
  {
   "cell_type": "markdown",
   "metadata": {},
   "source": [
    "What happens if we try to run the optimization now, by trying to minimize this objective function, under no constraints?"
   ]
  },
  {
   "cell_type": "code",
   "execution_count": null,
   "metadata": {
    "scrolled": true
   },
   "outputs": [],
   "source": [
    "def find_optimal_holdings(alpha_vector):\n",
    "    \"\"\"\n",
    "    Use cvxpy to construct and solve an optimization problem. Use -alpha*x as the objective, and use no constraints.\n",
    "\n",
    "    Parameters\n",
    "    ----------\n",
    "    alpha_vector : DataFrame\n",
    "        The 3-stock alpha vector calculated above.\n",
    "\n",
    "    Returns\n",
    "    -------\n",
    "    optimal_weights : DataFrame\n",
    "        A DataFrame containing the optimal weights calculated by the optimization algorithm.\n",
    "    \"\"\"\n",
    "    #TODO: Implement function\n",
    "    \n",
    "    # define weight vector\n",
    "    x = cvx.Variable(len(alpha_vector))\n",
    "    \n",
    "    obj = cvx.Minimize(\n",
    "        -alpha_vector.values.flatten()*x\n",
    "    )\n",
    "    \n",
    "    constraints = [] # no constraints\n",
    "    \n",
    "    prob = cvx.Problem(obj, constraints)\n",
    "    prob.solve(verbose=True, max_iters=500)\n",
    "\n",
    "    optimal_weights = np.asarray(x.value).flatten()\n",
    "\n",
    "    return pd.DataFrame(data=optimal_weights)\n"
   ]
  },
  {
   "cell_type": "code",
   "execution_count": null,
   "metadata": {
    "scrolled": true
   },
   "outputs": [],
   "source": [
    "optimal_weights = find_optimal_holdings(\n",
    "    alpha_vector\n",
    ")\n",
    "print(\"Optimal weights: \", optimal_weights)"
   ]
  },
  {
   "cell_type": "markdown",
   "metadata": {},
   "source": [
    "As expected, without constraints, the problem is unbounded. We could achieve a smaller and smaller objective function value by taking larger and larger long positions on Stock C, and larger and larger short positions on Stock B. But this would increase risk and leverage. This is where our constraints come into play."
   ]
  },
  {
   "cell_type": "markdown",
   "metadata": {},
   "source": [
    "## Create a Risk Model"
   ]
  },
  {
   "cell_type": "markdown",
   "metadata": {},
   "source": [
    "We are going to create a PCA-based risk model for our 3 stocks. First, let's plot the returns data and their mean, just to have a sense for the shape of the data."
   ]
  },
  {
   "cell_type": "code",
   "execution_count": null,
   "metadata": {},
   "outputs": [],
   "source": [
    "m = rets.mean()"
   ]
  },
  {
   "cell_type": "code",
   "execution_count": null,
   "metadata": {
    "scrolled": false
   },
   "outputs": [],
   "source": [
    "# Trace for mean return vector m\n",
    "mean_vec = np.vstack((np.full(3, 0), m.values)).T\n",
    "\n",
    "hover_text2 = helper.generate_hover_text(mean_vec[0], mean_vec[1], mean_vec[2], 'Mean of Returns of Stock A', 'Mean of Returns of Stock B', 'Mean of Returns of Stock C', sig_figs = 7)\n",
    "\n",
    "trace2 = go.Scatter3d(\n",
    "    x=mean_vec[0],\n",
    "    y=mean_vec[1],\n",
    "    z=mean_vec[2],\n",
    "    mode='lines+markers',\n",
    "    marker=dict(\n",
    "        size=4,\n",
    "        color='red',\n",
    "        opacity=0.9,\n",
    "        symbol=\"diamond\"\n",
    "    ),\n",
    "    name = 'mean daily return',\n",
    "    text = hover_text2.flatten(),\n",
    "    hoverinfo = 'text'\n",
    ")\n",
    "\n",
    "\n",
    "# Trace for data\n",
    "hover_text3 = helper.generate_hover_text(rets['A'].values, rets['B'].values, rets['C'].values, 'Return of Stock A', 'Return of Stock B', 'Return of Stock C')\n",
    "\n",
    "trace3 = go.Scatter3d(\n",
    "    x=rets['A'].values,\n",
    "    y=rets['B'].values,\n",
    "    z=rets['C'].values,\n",
    "    mode='markers',\n",
    "    marker=dict(\n",
    "        size=4,\n",
    "        color='#7FB3D5',  \n",
    "        opacity=0.3,\n",
    "    ),\n",
    "    name = 'daily returns',\n",
    "    text = hover_text3.flatten(),\n",
    "    hoverinfo = 'text'\n",
    ")\n",
    "\n",
    "data = [trace2, trace3]\n",
    "\n",
    "layout = helper.create_standard_layout('Returns Data', 'Return of')\n",
    "fig = go.Figure(data=data, layout=layout)\n",
    "py.offline.iplot(fig)"
   ]
  },
  {
   "cell_type": "markdown",
   "metadata": {},
   "source": [
    "There are a few things to notice here. \n",
    "1. The vector of mean returns is very small compared to the volatility of the data! Admittedly, this is an artificial example with fake data, but this is also generally the case.\n",
    "2. The volatility of Stock C is larger than the volatility of Stock B, which is larger than the volatility of Stock A."
   ]
  },
  {
   "cell_type": "markdown",
   "metadata": {},
   "source": [
    "Given these data, we can already set up some expectations for what the results of PCA will look like. Remember that we expect the first PC to point in the direction of maximum variability of the data. Given the volatility of Stock C, we expect the first PC to point approximately parallel to the \"Stock C axis\". If we get results that are very different from this, we know that something is wrong with what we are doing. Let's now run the PCA algorithm, and see what we get. "
   ]
  },
  {
   "cell_type": "markdown",
   "metadata": {},
   "source": [
    "First we'll mean-center the data."
   ]
  },
  {
   "cell_type": "code",
   "execution_count": null,
   "metadata": {},
   "outputs": [],
   "source": [
    "rets = rets - m"
   ]
  },
  {
   "cell_type": "markdown",
   "metadata": {},
   "source": [
    "Then we'll create a class that will fit our risk model."
   ]
  },
  {
   "cell_type": "code",
   "execution_count": null,
   "metadata": {
    "scrolled": true
   },
   "outputs": [],
   "source": [
    "from sklearn.decomposition import PCA\n",
    "\n",
    "class RiskModelPCA():\n",
    "    \n",
    "    ANN_FACTOR = 252\n",
    "    \n",
    "    def __init__(self, num_factors):\n",
    "        self._num_factors = num_factors\n",
    "        self.num_stocks_ = None\n",
    "        self.factor_betas_ = None\n",
    "        self.factor_returns_ = None\n",
    "        self.common_returns_ = None\n",
    "        self.residuals_ = None\n",
    "        self.factor_cov_matrix_ = None\n",
    "        self.idio_var_matrix_ = None\n",
    "        self.explained_variance_ratio_ = None\n",
    "\n",
    "    def fit(self, returns):\n",
    "        self.num_stocks_ = len(returns.columns)\n",
    "        mod = PCA(n_components=self._num_factors, svd_solver='full')\n",
    "        mod.fit(returns)\n",
    "        \n",
    "        self.factor_betas_ = pd.DataFrame(\n",
    "            data=mod.components_.T,\n",
    "            index=returns.columns\n",
    "        )\n",
    "        \n",
    "        self.factor_returns_ = pd.DataFrame(\n",
    "            data=mod.transform(rets),\n",
    "            index=returns.index\n",
    "        )\n",
    "        \n",
    "        self.explained_variance_ratio_ = mod.explained_variance_ratio_\n",
    "        \n",
    "        self.common_returns_ = pd.DataFrame(\n",
    "            data=np.dot(self.factor_returns_, self.factor_betas_.T),\n",
    "            index=returns.index\n",
    "        )\n",
    "        self.common_returns_.columns = returns.columns\n",
    "        \n",
    "        self.residuals_ = (returns - self.common_returns_)\n",
    "        \n",
    "        self.factor_cov_matrix_ = np.diag(\n",
    "            self.factor_returns_.var(axis=0, ddof=1)*RiskModelPCA.ANN_FACTOR\n",
    "        )\n",
    "        \n",
    "        self.idio_var_matrix_ = pd.DataFrame(\n",
    "            data=np.diag(np.var(self.residuals_))*RiskModelPCA.ANN_FACTOR,\n",
    "            index=returns.columns\n",
    "        )\n",
    "        \n",
    "        self.idio_var_vector_ = pd.DataFrame(\n",
    "            data=np.diag(self.idio_var_matrix_.values),\n",
    "            index=returns.columns\n",
    "        )\n",
    "        \n",
    "        self.idio_var_matrix_.columns = index=returns.columns\n",
    "\n",
    "    def get_factor_exposures(self, weights):\n",
    "        B = self.factor_betas_.loc[weights.index]\n",
    "        return B.T.dot(weights)"
   ]
  },
  {
   "cell_type": "markdown",
   "metadata": {},
   "source": [
    "Let's fit the risk model with 2 factors (i.e., we'll keep 2 PCs)."
   ]
  },
  {
   "cell_type": "code",
   "execution_count": null,
   "metadata": {
    "scrolled": true
   },
   "outputs": [],
   "source": [
    "rm = RiskModelPCA(2) # create an instance of the class with 2 factors\n",
    "rm.fit(rets) # fit the model on our data"
   ]
  },
  {
   "cell_type": "markdown",
   "metadata": {},
   "source": [
    "Let's look at the factors (PCs)."
   ]
  },
  {
   "cell_type": "code",
   "execution_count": null,
   "metadata": {
    "scrolled": false
   },
   "outputs": [],
   "source": [
    "rm.factor_betas_"
   ]
  },
  {
   "cell_type": "markdown",
   "metadata": {},
   "source": [
    "The first PC points almost completely in the \"Stock C\" direction. The second points almost completely in the \"Stock B\" direction. This makes sense given the fact that we see most variability in the \"Stock C\" direction, and if we collapse that variability, we'd see the next most variability in the \"Stock B\" direction. Let's plot the PC vectors to make this more clear."
   ]
  },
  {
   "cell_type": "code",
   "execution_count": null,
   "metadata": {},
   "outputs": [],
   "source": [
    "PC_scaler = 0.04 # The PC vectors have length 1, but this is larger than the scale of our data, so for visualization purposes, let's plot scaled-down versions of the PCs. \n",
    "\n",
    "# Trace for PC 0\n",
    "pc0 = np.vstack((np.full(3, 0), rm.factor_betas_[0].values)).T*PC_scaler\n",
    "\n",
    "hover_text4 = helper.generate_hover_text(pc0[0], pc0[1], pc0[2], 'Return of Stock A', 'Return of Stock B', 'Return of Stock C')\n",
    "\n",
    "trace4 = go.Scatter3d(\n",
    "    x=pc0[0],\n",
    "    y=pc0[1],\n",
    "    z=pc0[2],\n",
    "    mode='lines+markers',\n",
    "    marker=dict(\n",
    "        size=4,\n",
    "        color='#45B39D',\n",
    "        opacity=0.9,\n",
    "        symbol=\"diamond\"\n",
    "    ),\n",
    "    line=dict(\n",
    "        color='#45B39D',\n",
    "        width=3\n",
    "    ),\n",
    "    name = 'PC 0',\n",
    "    text = hover_text4.flatten(),\n",
    "    hoverinfo = 'text'\n",
    "\n",
    ")\n",
    "\n",
    "# Trace for PC 1\n",
    "pc1 = np.vstack((np.full(3, 0), rm.factor_betas_[1].values)).T*PC_scaler\n",
    "\n",
    "hover_text5 = helper.generate_hover_text(pc1[0], pc1[1], pc1[2], 'Return of Stock A', 'Return of Stock B', 'Return of Stock C')\n",
    "\n",
    "trace5 = go.Scatter3d(\n",
    "    x=pc1[0],\n",
    "    y=pc1[1],\n",
    "    z=pc1[2],\n",
    "    mode='lines+markers',\n",
    "    marker=dict(\n",
    "        size=4,\n",
    "        color='#FFC300',\n",
    "        opacity=0.9,\n",
    "        symbol=\"diamond\"\n",
    "    ),\n",
    "    line=dict(\n",
    "        color='#FFC300',\n",
    "        width=3\n",
    "    ),\n",
    "    name = 'PC 1',\n",
    "    text = hover_text5.flatten(),\n",
    "    hoverinfo = 'text'\n",
    "\n",
    ")\n",
    "\n",
    "# Trace for data\n",
    "hover_text6 = helper.generate_hover_text(rets['A'].values, rets['B'].values, rets['C'].values, 'Return of Stock A', 'Return of Stock B', 'Return of Stock C')\n",
    "\n",
    "trace6 = go.Scatter3d(\n",
    "    x=rets['A'].values,\n",
    "    y=rets['B'].values,\n",
    "    z=rets['C'].values,\n",
    "    mode='markers',\n",
    "    marker=dict(\n",
    "        size=4,\n",
    "        color='#7FB3D5', \n",
    "        opacity=0.3,\n",
    "    ),\n",
    "    name = 'daily returns',\n",
    "    text = hover_text6.flatten(),\n",
    "    hoverinfo = 'text'\n",
    ")\n",
    "\n",
    "data = [trace4, trace5, trace6]\n",
    "\n",
    "layout = helper.create_standard_layout('Returns Data with Factor (PC) Directions', 'Return of')\n",
    "fig = go.Figure(data=data, layout=layout)\n",
    "py.offline.iplot(fig)"
   ]
  },
  {
   "cell_type": "markdown",
   "metadata": {},
   "source": [
    "Let's look at the fraction of variance explained by the two factors we kept. This should confirm our intuition about the relative scale of variance explained by the first two factors."
   ]
  },
  {
   "cell_type": "code",
   "execution_count": null,
   "metadata": {
    "scrolled": false
   },
   "outputs": [],
   "source": [
    "plt.bar(np.arange(2), rm.explained_variance_ratio_, color=['#45B39D', '#FFC300']);\n",
    "plt.title('% of Variance Explained by Each Factor');"
   ]
  },
  {
   "cell_type": "markdown",
   "metadata": {},
   "source": [
    "Now let's look at the factor returns. We'll convert them to \"price series\" and visualize the evolution of these over time. Recall that these are the data expressed in the \"factor\" (PC) basis––the projections of the data vectors onto the factor dimensions."
   ]
  },
  {
   "cell_type": "code",
   "execution_count": null,
   "metadata": {},
   "outputs": [],
   "source": [
    "(rm.factor_returns_ + 1).cumprod().plot(color=['#45B39D', '#FFC300'])"
   ]
  },
  {
   "cell_type": "markdown",
   "metadata": {},
   "source": [
    "Note that in this example, since the first factor is so close to the direction of the return on Stock C, the factor return (converted to a \"price series\") for factor 0 looks a lot like the price evolution of Stock C, but _inverted_. This is because the PCs are vectors that represent _directions_ in space—they are only unique up to a sign change, and thus the projections onto them are unique up to a sign change."
   ]
  },
  {
   "cell_type": "code",
   "execution_count": null,
   "metadata": {},
   "outputs": [],
   "source": [
    "prices.plot()"
   ]
  },
  {
   "cell_type": "markdown",
   "metadata": {},
   "source": [
    "## Create Optimization Constraints\n",
    "As we saw above, we need to constrain our optimization problem. Let's now create and plot the following constraints:\n",
    "* risk, based on our risk model\n",
    "* leverage\n",
    "* market neutral\n",
    "* factor exposure limits\n",
    "* individual weight limits"
   ]
  },
  {
   "cell_type": "markdown",
   "metadata": {},
   "source": [
    "#### Risk"
   ]
  },
  {
   "cell_type": "code",
   "execution_count": null,
   "metadata": {},
   "outputs": [],
   "source": [
    "B = rm.factor_betas_\n",
    "F = rm.factor_cov_matrix_\n",
    "S = np.diag(rm.idio_var_vector_.values.flatten())"
   ]
  },
  {
   "cell_type": "markdown",
   "metadata": {},
   "source": [
    "Using the $\\mathbf{B}$, $\\mathbf{F}$, and $\\mathbf{S}$ matrices, let's write a function that takes in the portfolio weights and spits out the portfolio risk. Remember that the portfolio risk is calculated $\\mathbf{x}^T(\\mathbf{B}^T\\mathbf{F}\\mathbf{B} + \\mathbf{S})\\mathbf{x}$, but be careful to ensure the matrices are all oriented correctly."
   ]
  },
  {
   "cell_type": "code",
   "execution_count": null,
   "metadata": {},
   "outputs": [],
   "source": [
    "def risk_fcn(x):\n",
    "    \"\"\"\n",
    "    Calculate portfolio risk.\n",
    "\n",
    "    Parameters\n",
    "    ----------\n",
    "    x : numpy array\n",
    "        The vector of portfolio weights.\n",
    "\n",
    "    Returns\n",
    "    -------\n",
    "    risk : float\n",
    "        Portfolio risk.\n",
    "    \"\"\"\n",
    "    #TODO: Implement function\n",
    "    \n",
    "    f = np.dot(B.values.T, x)\n",
    "    return np.dot(f.T, np.dot(F, f)) + np.dot(x, np.dot(S, x))"
   ]
  },
  {
   "cell_type": "code",
   "execution_count": null,
   "metadata": {},
   "outputs": [],
   "source": [
    "n_samples = 25\n",
    "grid_max = 2.5\n",
    "risk_grid, spacing, xv, yv, zv = helper.evaluate_fcn_on_grid(grid_max, n_samples, risk_fcn)"
   ]
  },
  {
   "cell_type": "markdown",
   "metadata": {},
   "source": [
    "Now let's look at a plot of the value of the portfolio risk as a function of the portfolio weights in 3 dimensions."
   ]
  },
  {
   "cell_type": "code",
   "execution_count": null,
   "metadata": {},
   "outputs": [],
   "source": [
    "hover_text = helper.generate_hover_text(xv, yv, zv, 'Weight on Stock A', 'Weight on Stock B', 'Weight on Stock C', fcn_values=risk_grid, fcn_label='Portfolio Risk')\n",
    "\n",
    "trace7 = go.Scatter3d(\n",
    "    x=xv.flatten(),\n",
    "    y=yv.flatten(),\n",
    "    z=zv.flatten(),\n",
    "    mode='markers',\n",
    "    marker=dict(\n",
    "        size=4,\n",
    "        color=risk_grid.flatten(), \n",
    "        colorscale='Viridis',\n",
    "        opacity=0.3,\n",
    "        showscale=True\n",
    "    ),\n",
    "    text = hover_text.flatten(),\n",
    "    hoverinfo = 'text'\n",
    ")\n",
    "\n",
    "data = [trace7]\n",
    "layout = helper.create_standard_layout('Portfolio Risk as Modeled by our PCA Risk Model', 'Weight on')\n",
    "fig = go.Figure(data=data, layout=layout)\n",
    "py.offline.iplot(fig)"
   ]
  },
  {
   "cell_type": "markdown",
   "metadata": {},
   "source": [
    "This plot uses a color at several points in 3-D space to represent the portfolio risk as a function of weight on each stock. Note that it increases with weight on each stock. This helps us visualize the risk function, but what does it look like to _constrain_ risk? Let's visualize the boundary of the region within which risk is below a limiting value. This will help us visualize the shape of the space we search with optimization. We will do this for each of our constraints."
   ]
  },
  {
   "cell_type": "code",
   "execution_count": null,
   "metadata": {},
   "outputs": [],
   "source": [
    "risk_data = helper.plot_iso_surface(risk_grid, 0.05, 25, 2.5, \"Portfolio Risk = 0.05\", '#F5B7B1', True)"
   ]
  },
  {
   "cell_type": "markdown",
   "metadata": {},
   "source": [
    "#### Leverage"
   ]
  },
  {
   "cell_type": "markdown",
   "metadata": {},
   "source": [
    "Now let's write a function that takes in the portfolio weights and spits out the portfolio leverage, $\\sum_i|x_i|$. This will allow us to visualize the space that satisfies the constraint $\\sum_i|x_i| \\leq 1$."
   ]
  },
  {
   "cell_type": "code",
   "execution_count": null,
   "metadata": {},
   "outputs": [],
   "source": [
    "def lev_fcn(x):\n",
    "    \"\"\"\n",
    "    Calculate portfolio leverage.\n",
    "\n",
    "    Parameters\n",
    "    ----------\n",
    "    x : numpy array\n",
    "        The vector of portfolio weights.\n",
    "\n",
    "    Returns\n",
    "    -------\n",
    "    leverage : float\n",
    "        Portfolio risk.\n",
    "    \"\"\"\n",
    "    #TODO: Implement function\n",
    "    factor = 0\n",
    "    for val in x:\n",
    "        factor += np.abs(val)\n",
    "        \n",
    "    return factor\n",
    "\n",
    "n_samples = 25\n",
    "grid_max = 2.5\n",
    "\n",
    "lev_grid, _, _, _, _ = helper.evaluate_fcn_on_grid(grid_max, n_samples, lev_fcn)\n",
    "lev_data = helper.plot_iso_surface(lev_grid, 1.0, n_samples, grid_max, \"Leverage Ratio = 1\", '#1F618D', True)"
   ]
  },
  {
   "cell_type": "markdown",
   "metadata": {},
   "source": [
    "#### Market Neutral"
   ]
  },
  {
   "cell_type": "markdown",
   "metadata": {},
   "source": [
    "For the market neutral constraint, we constrain the sum of the weights. Let's write a function that calculates this quantity, given the portfolio weights. Then we can visualize the plane $\\sum_i x_i = 0$."
   ]
  },
  {
   "cell_type": "code",
   "execution_count": null,
   "metadata": {},
   "outputs": [],
   "source": [
    "def mn_fcn(x):\n",
    "    \"\"\"\n",
    "    Calculate the sum of the portfolio weights.\n",
    "\n",
    "    Parameters\n",
    "    ----------\n",
    "    x : numpy array\n",
    "        The vector of portfolio weights.\n",
    "\n",
    "    Returns\n",
    "    -------\n",
    "    sum_of_weights : float\n",
    "        Sum of the portfolio weights.\n",
    "    \"\"\"\n",
    "    #TODO: Implement function\n",
    "    \n",
    "    return sum(x)\n",
    "\n",
    "n_samples = 25\n",
    "grid_max = 2.5\n",
    "\n",
    "mn_grid, _, _, _, _ = helper.evaluate_fcn_on_grid(grid_max, n_samples, mn_fcn)\n",
    "mn_data = helper.plot_iso_surface(mn_grid, 0, n_samples, grid_max, \"Sum of Weights = 0\", '#D35400', True)"
   ]
  },
  {
   "cell_type": "markdown",
   "metadata": {},
   "source": [
    "#### Factor Exposures"
   ]
  },
  {
   "cell_type": "markdown",
   "metadata": {},
   "source": [
    "Let's also calculate the factor exposures. Then we'll plot the planes defined by the factor exposure limits. The optimization will constrain the solution to lie between each pair of planes. We'll constrain each factor exposure to be between -0.1 and 0.1."
   ]
  },
  {
   "cell_type": "code",
   "execution_count": null,
   "metadata": {},
   "outputs": [],
   "source": [
    "def fac_fcn(x):\n",
    "    \"\"\"\n",
    "    Calculate portfolio factor exposures.\n",
    "\n",
    "    Parameters\n",
    "    ----------\n",
    "    x : numpy array\n",
    "        The vector of portfolio weights.\n",
    "\n",
    "    Returns\n",
    "    -------\n",
    "    fac_exposures : numpy array\n",
    "        Portfolio factor exposures.\n",
    "    \"\"\"\n",
    "    #TODO: Implement function\n",
    "    \n",
    "    return np.dot(B.values.T, x)\n",
    "\n",
    "grid_max = 2.5\n",
    "n_samples = 25\n",
    "\n",
    "fac_grid, spacing, _, _, _ = helper.evaluate_fcn_on_grid(grid_max, n_samples, fac_fcn)\n",
    "\n",
    "factor_limit_data = []\n",
    "\n",
    "for factor in range(B.shape[1]):\n",
    "    for l in range(2):\n",
    "        mult_fac = l*2-1\n",
    "        factor_limit_data.extend(helper.plot_iso_surface(fac_grid[:,:,:,factor], 0.1*mult_fac, n_samples, grid_max, 'Factor Exposure Limits', '#D2B4DE', False))\n",
    "\n",
    "layout = helper.create_standard_layout('Factor Exposure Limits', 'Weight on')\n",
    "\n",
    "fig = go.Figure(data=factor_limit_data, layout=layout)         \n",
    "        \n",
    "py.offline.iplot(fig)"
   ]
  },
  {
   "cell_type": "markdown",
   "metadata": {},
   "source": [
    "#### Individual Weight Limits"
   ]
  },
  {
   "cell_type": "markdown",
   "metadata": {},
   "source": [
    "Finally, let's look at the space inside the constraints on each individual weight. We'll constrain each individual weight to be between -0.55 and 0.55."
   ]
  },
  {
   "cell_type": "code",
   "execution_count": null,
   "metadata": {},
   "outputs": [],
   "source": [
    "x_max = 0.55\n",
    "\n",
    "x = np.array([-1, -1, 1, 1, -1, -1, 1, 1])*x_max\n",
    "y = np.array([-1, 1, 1, -1, -1, 1, 1, -1])*x_max\n",
    "z = np.array([-1, -1, -1, -1, 1, 1, 1, 1])*x_max\n",
    "hover_text = helper.generate_hover_text(x, y, z, 'Weight on Stock A', 'Weight on Stock B', 'Weight on Stock C')\n",
    "\n",
    "\n",
    "weight_data = [\n",
    "    go.Mesh3d(\n",
    "        x = x,\n",
    "        y = y,\n",
    "        z = z,\n",
    "        colorscale = '#FCF3CF',\n",
    "        intensity = np.full(8, 1),\n",
    "        i = [7, 0, 0, 0, 4, 4, 6, 6, 4, 0, 3, 2],\n",
    "        j = [3, 4, 1, 2, 5, 6, 5, 2, 0, 1, 6, 3],\n",
    "        k = [0, 7, 2, 3, 6, 7, 1, 1, 5, 5, 7, 6],\n",
    "        name='Weight on Stock B',\n",
    "        showscale=False,\n",
    "        opacity = 0.3,\n",
    "        hoverinfo='none'\n",
    "    )\n",
    "]\n",
    "\n",
    "trace = go.Scatter3d(\n",
    "    x=x,\n",
    "    y=y,\n",
    "    z=z,\n",
    "    mode='markers',\n",
    "    marker=dict(\n",
    "        size=6,\n",
    "        opacity=0.0001,\n",
    "        color='#BFB1A8', \n",
    "    ),\n",
    "    text = hover_text.flatten(),\n",
    "    hoverinfo = 'text',\n",
    "    showlegend=False\n",
    ")\n",
    "    \n",
    "weight_data = [weight_data[0], trace]    \n",
    "    \n",
    "layout = helper.create_standard_layout('Individual Weight Limits', 'Weight on')\n",
    "fig = go.Figure(data=weight_data, layout=layout)\n",
    "py.offline.iplot(fig)"
   ]
  },
  {
   "cell_type": "markdown",
   "metadata": {},
   "source": [
    "#### Plot all the constraints on the same axes"
   ]
  },
  {
   "cell_type": "markdown",
   "metadata": {},
   "source": [
    "Finally, let's visualize the space that satisfies all the constraints. It has to be inside all of the enclosed spaces, _on_ the plane defined by the market neutral constraint, and _between_ the planes defined by the factor exposure constraints."
   ]
  },
  {
   "cell_type": "code",
   "execution_count": null,
   "metadata": {},
   "outputs": [],
   "source": [
    "data = risk_data\n",
    "data.extend(lev_data)\n",
    "data.extend(mn_data)\n",
    "data.extend(factor_limit_data)\n",
    "data.extend(weight_data)\n",
    "layout = helper.create_standard_layout('Visualize Intersection of All Constraints', 'Weight on')\n",
    "fig = go.Figure(data=data, layout=layout)\n",
    "py.offline.iplot(fig)"
   ]
  },
  {
   "cell_type": "markdown",
   "metadata": {},
   "source": [
    "## Optimization\n",
    "Finally, let's define and run the optimization problem with the same objective function as above, but this time, with all the constraints we just discussed. Remember that the optimization is looking for the point in the space that satisfies all the constraints that _minimizes_ the alpha function."
   ]
  },
  {
   "cell_type": "code",
   "execution_count": null,
   "metadata": {
    "scrolled": true
   },
   "outputs": [],
   "source": [
    "def find_optimal_holdings(\n",
    "    alpha_vector,\n",
    "    risk_model,\n",
    "    risk_cap=0.05,\n",
    "    factor_max=10.0,\n",
    "    factor_min=-10.0,\n",
    "    x_max=0.55,\n",
    "    x_min=-0.55):\n",
    "    \n",
    "    \"\"\"\n",
    "    Define an optimization problem. It takes in several inputs and optimization parameters and outputs the\n",
    "    optimized weights. The objective should minimize the objective -alpha*x, but also apply the risk, leverage,\n",
    "    market neutral, factor exposure, and invidiual weight constraints.\n",
    "\n",
    "    Parameters\n",
    "    ----------\n",
    "    alpha_vector : numpy array\n",
    "        The alpha vector used in the optimization objective.\n",
    "    risk_model : RiskModelPCA\n",
    "        The risk model calculated above using PCA.\n",
    "    risk_cap : float\n",
    "        The limit to be placed on portfolio risk.\n",
    "    factor_max : float\n",
    "        The factor exposure upper limit.\n",
    "    factor_min : float\n",
    "        The factor exposure lower limit.\n",
    "    x_max : float\n",
    "        The individual weight upper limit.\n",
    "    x_min : float\n",
    "        The individual weight lower limit.\n",
    "\n",
    "    Returns\n",
    "    -------\n",
    "    optimal_weights : numpy array\n",
    "        The optimal portfolio weights.\n",
    "    \"\"\"\n",
    "    #TODO: Implement function\n",
    "    B = risk_model.factor_betas_\n",
    "    F = risk_model.factor_cov_matrix_\n",
    "    S = np.diag(risk_model.idio_var_vector_.values.flatten())\n",
    "\n",
    "    x = cvx.Variable(len(alpha_vector))\n",
    "    f = B.values.T*x\n",
    "    \n",
    "    risk = cvx.quad_form(f, F) + cvx.quad_form(x, S)\n",
    "\n",
    "    obj = cvx.Minimize(-alpha_vector.values.flatten()*x)\n",
    "\n",
    "    constraints = [\n",
    "        sum(cvx.abs(x)) <= 1.0,\n",
    "        sum(x) == 0.0,\n",
    "        x <= x_max,\n",
    "        x >= x_min,\n",
    "        risk <= risk_cap,\n",
    "        B.values.T*x <= factor_max,\n",
    "        B.values.T*x >= factor_min\n",
    "    ]\n",
    "    \n",
    "    prob = cvx.Problem(obj, constraints)\n",
    "    prob.solve(verbose=True, max_iters=500)\n",
    "\n",
    "    optimal_weights = np.asarray(x.value).flatten()\n",
    "\n",
    "    return pd.DataFrame(data=optimal_weights, index=alpha_vector.index)\n",
    "    return None"
   ]
  },
  {
   "cell_type": "code",
   "execution_count": null,
   "metadata": {
    "scrolled": true
   },
   "outputs": [],
   "source": [
    "optimal_weights = find_optimal_holdings(\n",
    "    alpha_vector,\n",
    "    rm\n",
    ")"
   ]
  },
  {
   "cell_type": "code",
   "execution_count": null,
   "metadata": {},
   "outputs": [],
   "source": [
    "optimal_weights"
   ]
  },
  {
   "cell_type": "markdown",
   "metadata": {},
   "source": [
    "The optimal weights are 0 weight on Stock A, 50% long on Stock B and 50% short on Stock C."
   ]
  },
  {
   "cell_type": "markdown",
   "metadata": {
    "collapsed": true
   },
   "source": [
    "The solution for this notebook is [here](Advanced_Opt_solution.ipynb)."
   ]
  },
  {
   "cell_type": "code",
   "execution_count": null,
   "metadata": {},
   "outputs": [],
   "source": []
  }
 ],
 "metadata": {
  "kernelspec": {
   "display_name": "Python 3",
   "language": "python",
   "name": "python3"
  },
  "language_info": {
   "codemirror_mode": {
    "name": "ipython",
    "version": 3
   },
   "file_extension": ".py",
   "mimetype": "text/x-python",
   "name": "python",
   "nbconvert_exporter": "python",
   "pygments_lexer": "ipython3",
   "version": "3.6.7"
  }
 },
 "nbformat": 4,
 "nbformat_minor": 2
}
